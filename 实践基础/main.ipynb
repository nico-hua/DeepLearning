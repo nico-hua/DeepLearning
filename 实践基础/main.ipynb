{
 "cells": [
  {
   "cell_type": "markdown",
   "metadata": {},
   "source": [
    "请点击[此处](https://ai.baidu.com/docs#/AIStudio_Project_Notebook/a38e5576)查看本环境基本用法.  <br>\n",
    "Please click [here ](https://ai.baidu.com/docs#/AIStudio_Project_Notebook/a38e5576) for more detailed instructions. "
   ]
  },
  {
   "cell_type": "code",
   "execution_count": 1,
   "metadata": {
    "execution": {
     "iopub.execute_input": "2024-06-01T02:04:42.133276Z",
     "iopub.status.busy": "2024-06-01T02:04:42.132589Z",
     "iopub.status.idle": "2024-06-01T02:04:52.031612Z",
     "shell.execute_reply": "2024-06-01T02:04:52.030066Z",
     "shell.execute_reply.started": "2024-06-01T02:04:42.133234Z"
    },
    "scrolled": true
   },
   "outputs": [
    {
     "name": "stdout",
     "output_type": "stream",
     "text": [
      "Tensor(shape=[3], dtype=float32, place=Place(gpu:0), stop_gradient=True,\r\n",
      "       [2., 3., 4.])\r\n"
     ]
    }
   ],
   "source": [
    "# 导入PaddlePaddle\n",
    "import paddle\n",
    "# 创建一维张量\n",
    "ndim_1_Tensor = paddle.to_tensor([2.0, 3.0, 4.0])\n",
    "print(ndim_1_Tensor)"
   ]
  },
  {
   "cell_type": "code",
   "execution_count": 2,
   "metadata": {
    "execution": {
     "iopub.execute_input": "2024-06-01T02:04:52.034702Z",
     "iopub.status.busy": "2024-06-01T02:04:52.033576Z",
     "iopub.status.idle": "2024-06-01T02:04:52.042770Z",
     "shell.execute_reply": "2024-06-01T02:04:52.041688Z",
     "shell.execute_reply.started": "2024-06-01T02:04:52.034642Z"
    },
    "scrolled": true
   },
   "outputs": [
    {
     "name": "stdout",
     "output_type": "stream",
     "text": [
      "Tensor(shape=[2, 3], dtype=float32, place=Place(gpu:0), stop_gradient=True,\r\n",
      "       [[1., 2., 3.],\r\n",
      "        [4., 5., 6.]])\r\n"
     ]
    }
   ],
   "source": [
    "# 创建二维张量\n",
    "ndim_2_Tensor = paddle.to_tensor([[1.0, 2.0, 3.0], [4.0, 5.0, 6.0]])\n",
    "print(ndim_2_Tensor)"
   ]
  },
  {
   "cell_type": "code",
   "execution_count": 3,
   "metadata": {
    "execution": {
     "iopub.execute_input": "2024-06-01T02:04:52.044390Z",
     "iopub.status.busy": "2024-06-01T02:04:52.043825Z",
     "iopub.status.idle": "2024-06-01T02:04:53.576306Z",
     "shell.execute_reply": "2024-06-01T02:04:53.480604Z",
     "shell.execute_reply.started": "2024-06-01T02:04:52.044358Z"
    },
    "scrolled": true
   },
   "outputs": [
    {
     "name": "stdout",
     "output_type": "stream",
     "text": [
      "Tensor(shape=[2, 3, 5], dtype=int64, place=Place(gpu:0), stop_gradient=True,\r\n",
      "       [[[1 , 2 , 3 , 4 , 5 ],\r\n",
      "         [6 , 7 , 8 , 9 , 10],\r\n",
      "         [11, 12, 13, 14, 15]],\r\n",
      "\r\n",
      "        [[1 , 2 , 3 , 4 , 5 ],\r\n",
      "         [6 , 7 , 8 , 9 , 10],\r\n",
      "         [11, 12, 13, 14, 15]]])\r\n"
     ]
    }
   ],
   "source": [
    "# 创建多维张量\n",
    "ndim_3_Tensor = paddle.to_tensor([[[1,2,3,4,5],[6,7,8,9,10],[11,12,13,14,15]],[[1,2,3,4,5],[6,7,8,9,10],[11,12,13,14,15]]])\n",
    "print(ndim_3_Tensor)"
   ]
  },
  {
   "cell_type": "code",
   "execution_count": 4,
   "metadata": {
    "execution": {
     "iopub.execute_input": "2024-06-01T02:04:53.581112Z",
     "iopub.status.busy": "2024-06-01T02:04:53.580539Z",
     "iopub.status.idle": "2024-06-01T02:04:54.829673Z",
     "shell.execute_reply": "2024-06-01T02:04:54.828209Z",
     "shell.execute_reply.started": "2024-06-01T02:04:53.581060Z"
    },
    "scrolled": true
   },
   "outputs": [
    {
     "name": "stdout",
     "output_type": "stream",
     "text": [
      "zeros Tensor:  Tensor(shape=[2, 3], dtype=float32, place=Place(gpu:0), stop_gradient=True,\r\n",
      "       [[0., 0., 0.],\r\n",
      "        [0., 0., 0.]])\r\n",
      "ones Tensor:  Tensor(shape=[2, 3], dtype=float32, place=Place(gpu:0), stop_gradient=True,\r\n",
      "       [[1., 1., 1.],\r\n",
      "        [1., 1., 1.]])\r\n",
      "full Tensor:  Tensor(shape=[2, 3], dtype=float32, place=Place(gpu:0), stop_gradient=True,\r\n",
      "       [[10., 10., 10.],\r\n",
      "        [10., 10., 10.]])\r\n"
     ]
    },
    {
     "name": "stderr",
     "output_type": "stream",
     "text": [
      "W0601 10:04:54.821434   246 gpu_resources.cc:119] Please NOTE: device: 0, GPU Compute Capability: 7.0, Driver API Version: 12.0, Runtime API Version: 11.8\r\n",
      "W0601 10:04:54.822973   246 gpu_resources.cc:164] device: 0, cuDNN Version: 8.9.\r\n"
     ]
    }
   ],
   "source": [
    "m, n = 2, 3\n",
    "# 使用paddle.zeros创建数据全为0，形状为[m, n]的张量\n",
    "zeros_Tensor = paddle.zeros([m, n])\n",
    "# 使用paddle.ones创建数据全为1，形状为[m, n]的张量\n",
    "ones_Tensor = paddle.ones([m, n])\n",
    "# 使用paddle.full创建数据为指定值，形状为[m, n]的张量\n",
    "full_Tensor = paddle.full([m, n], 10)\n",
    "\n",
    "print('zeros Tensor: ', zeros_Tensor)\n",
    "print('ones Tensor: ', ones_Tensor)\n",
    "print('full Tensor: ', full_Tensor)"
   ]
  },
  {
   "cell_type": "code",
   "execution_count": 5,
   "metadata": {
    "execution": {
     "iopub.execute_input": "2024-06-01T02:04:54.831650Z",
     "iopub.status.busy": "2024-06-01T02:04:54.831280Z",
     "iopub.status.idle": "2024-06-01T02:04:56.148866Z",
     "shell.execute_reply": "2024-06-01T02:04:56.147903Z",
     "shell.execute_reply.started": "2024-06-01T02:04:54.831620Z"
    },
    "scrolled": true
   },
   "outputs": [
    {
     "name": "stdout",
     "output_type": "stream",
     "text": [
      "arange Tensor: Tensor(shape=[5], dtype=int64, place=Place(gpu:0), stop_gradient=True,\r\n",
      "       [1, 3, 5, 7, 9])\r\n",
      "linspace Tensor: Tensor(shape=[5], dtype=float32, place=Place(gpu:0), stop_gradient=True,\r\n",
      "       [1., 3., 5., 7., 9.])\r\n"
     ]
    }
   ],
   "source": [
    "# 使用paddle.arrange创建以步长step均匀分隔数值区间[start, end]的一维张量\n",
    "arange_Tensor = paddle.arange(start=1, end=10, step=2)\n",
    "# 使用paddle.linspace创建以元素个数num均匀分隔数值区间[start, stop]的张量\n",
    "linspace_Tensor = paddle.linspace(start=1, stop=9, num=5)\n",
    "\n",
    "print('arange Tensor:', arange_Tensor)\n",
    "print('linspace Tensor:', linspace_Tensor)"
   ]
  },
  {
   "cell_type": "code",
   "execution_count": 6,
   "metadata": {
    "execution": {
     "iopub.execute_input": "2024-06-01T02:04:56.150668Z",
     "iopub.status.busy": "2024-06-01T02:04:56.150312Z",
     "iopub.status.idle": "2024-06-01T02:04:57.467955Z",
     "shell.execute_reply": "2024-06-01T02:04:57.466987Z",
     "shell.execute_reply.started": "2024-06-01T02:04:56.150641Z"
    },
    "scrolled": true
   },
   "outputs": [
    {
     "name": "stdout",
     "output_type": "stream",
     "text": [
      "Number of dimensions: 4\r\n",
      "Shape of Tensor: [2, 3, 4, 5]\r\n",
      "Elements number along axis 0 of Tensor: 2\r\n",
      "Elements number along the last axis of Tensor: 5\r\n",
      "Number of elements in Tensor: 120\r\n"
     ]
    }
   ],
   "source": [
    "ndim_4_Tensor = paddle.ones([2, 3, 4, 5])\n",
    "\n",
    "# 张量的维度\n",
    "print('Number of dimensions:', ndim_4_Tensor.ndim)\n",
    "# 张量的形状\n",
    "print('Shape of Tensor:', ndim_4_Tensor.shape)\n",
    "# 张量第一个维度的元素个数\n",
    "print('Elements number along axis 0 of Tensor:', ndim_4_Tensor.shape[0])\n",
    "# 张量最后一个维度的元素个数\n",
    "print('Elements number along the last axis of Tensor:', ndim_4_Tensor.shape[-1])\n",
    "# 张量的元素个数\n",
    "print('Number of elements in Tensor:', ndim_4_Tensor.size)"
   ]
  },
  {
   "cell_type": "code",
   "execution_count": 7,
   "metadata": {
    "execution": {
     "iopub.execute_input": "2024-06-01T02:04:57.469376Z",
     "iopub.status.busy": "2024-06-01T02:04:57.468982Z",
     "iopub.status.idle": "2024-06-01T02:04:58.853819Z",
     "shell.execute_reply": "2024-06-01T02:04:58.853048Z",
     "shell.execute_reply.started": "2024-06-01T02:04:57.469350Z"
    },
    "scrolled": true
   },
   "outputs": [
    {
     "name": "stdout",
     "output_type": "stream",
     "text": [
      "shape of ndim_3_Tensor: [3, 2, 5]\r\n",
      "After reshape: Tensor(shape=[2, 5, 3], dtype=int64, place=Place(gpu:0), stop_gradient=True,\r\n",
      "       [[[1 , 2 , 3 ],\r\n",
      "         [4 , 5 , 6 ],\r\n",
      "         [7 , 8 , 9 ],\r\n",
      "         [10, 11, 12],\r\n",
      "         [13, 14, 15]],\r\n",
      "\r\n",
      "        [[16, 17, 18],\r\n",
      "         [19, 20, 21],\r\n",
      "         [22, 23, 24],\r\n",
      "         [25, 26, 27],\r\n",
      "         [28, 29, 30]]])\r\n"
     ]
    }
   ],
   "source": [
    "# 定义一个行状为[3,2,5]的三维张量\n",
    "ndim_3_Tensor = paddle.to_tensor([[[1,2,3,4,5],[6,7,8,9,10]],[[11,12,13,14,15],[16,17,18,19,20]],[[21,22,23,24,25],[26,27,28,29,30]]])\n",
    "print('shape of ndim_3_Tensor:', ndim_3_Tensor.shape)\n",
    "\n",
    "# paddle.reshape可以在保持输入数据不变的情况下，改变数据的形状\n",
    "reshape_Tensor = paddle.reshape(ndim_3_Tensor,[2,5,3])\n",
    "print('After reshape:', reshape_Tensor)"
   ]
  },
  {
   "cell_type": "code",
   "execution_count": 8,
   "metadata": {
    "execution": {
     "iopub.execute_input": "2024-06-01T02:04:58.855179Z",
     "iopub.status.busy": "2024-06-01T02:04:58.854808Z",
     "iopub.status.idle": "2024-06-01T02:05:01.197794Z",
     "shell.execute_reply": "2024-06-01T02:05:01.196706Z",
     "shell.execute_reply.started": "2024-06-01T02:04:58.855152Z"
    },
    "scrolled": true
   },
   "outputs": [
    {
     "name": "stdout",
     "output_type": "stream",
     "text": [
      "new Tensor 1 shape: [30]\r\n",
      "new Tensor 2 shape: [3, 5, 2]\r\n"
     ]
    }
   ],
   "source": [
    "new_Tensor1 = ndim_3_Tensor.reshape([-1])\n",
    "print('new Tensor 1 shape:', new_Tensor1.shape)\n",
    "\n",
    "new_Tensor2 = ndim_3_Tensor.reshape([0, 5, 2])\n",
    "print('new Tensor 2 shape:', new_Tensor2.shape)"
   ]
  },
  {
   "cell_type": "code",
   "execution_count": 9,
   "metadata": {
    "execution": {
     "iopub.execute_input": "2024-06-01T02:05:01.199889Z",
     "iopub.status.busy": "2024-06-01T02:05:01.199137Z",
     "iopub.status.idle": "2024-06-01T02:05:02.308332Z",
     "shell.execute_reply": "2024-06-01T02:05:02.307600Z",
     "shell.execute_reply.started": "2024-06-01T02:05:01.199855Z"
    },
    "scrolled": true
   },
   "outputs": [
    {
     "name": "stdout",
     "output_type": "stream",
     "text": [
      "new Tensor 1 shape: [1, 5, 10]\r\n",
      "new Tensor 2 shape: [5, 1, 1, 10]\r\n"
     ]
    }
   ],
   "source": [
    "# 使用paddle.unsqueeze在张量的一个或多个维度中插入尺寸为1的维度\n",
    "ones_Tensor = paddle.ones([5, 10])\n",
    "new_Tensor1 = paddle.unsqueeze(ones_Tensor, axis=0)\n",
    "print('new Tensor 1 shape:', new_Tensor1.shape)\n",
    "new_Tensor2 = paddle.unsqueeze(ones_Tensor, axis=[1,2])\n",
    "print('new Tensor 2 shape:', new_Tensor2.shape)"
   ]
  },
  {
   "cell_type": "code",
   "execution_count": 10,
   "metadata": {
    "execution": {
     "iopub.execute_input": "2024-06-01T02:05:02.311352Z",
     "iopub.status.busy": "2024-06-01T02:05:02.310860Z",
     "iopub.status.idle": "2024-06-01T02:05:05.097453Z",
     "shell.execute_reply": "2024-06-01T02:05:05.096602Z",
     "shell.execute_reply.started": "2024-06-01T02:05:02.311325Z"
    },
    "scrolled": true
   },
   "outputs": [
    {
     "name": "stdout",
     "output_type": "stream",
     "text": [
      "Tensor dtype from Python intergers: paddle.int64\r\n",
      "Tensor dtype from Python floating point: paddle.float32\r\n"
     ]
    }
   ],
   "source": [
    "# 通过Tensor.dtypoe来查看张量的数据类型\n",
    "print('Tensor dtype from Python intergers:', paddle.to_tensor(1).dtype)\n",
    "print('Tensor dtype from Python floating point:', paddle.to_tensor(1.0).dtype)"
   ]
  },
  {
   "cell_type": "code",
   "execution_count": 11,
   "metadata": {
    "execution": {
     "iopub.execute_input": "2024-06-01T02:05:05.099064Z",
     "iopub.status.busy": "2024-06-01T02:05:05.098522Z",
     "iopub.status.idle": "2024-06-01T02:05:07.657167Z",
     "shell.execute_reply": "2024-06-01T02:05:07.656365Z",
     "shell.execute_reply.started": "2024-06-01T02:05:05.099037Z"
    },
    "scrolled": true
   },
   "outputs": [
    {
     "name": "stdout",
     "output_type": "stream",
     "text": [
      "Tensor dtype after cast to int64 paddle.int64\r\n"
     ]
    }
   ],
   "source": [
    "# 定义dtype为float32的张量\n",
    "float32_Tensor = paddle.to_tensor(1.0)\n",
    "# paddle.cast可以将输入数据的数据类型转换为指定的dtype\n",
    "int64_Tensor = paddle.cast(float32_Tensor, dtype='int64')\n",
    "print('Tensor dtype after cast to int64', int64_Tensor.dtype)"
   ]
  },
  {
   "cell_type": "code",
   "execution_count": 12,
   "metadata": {
    "execution": {
     "iopub.execute_input": "2024-06-01T02:05:07.658660Z",
     "iopub.status.busy": "2024-06-01T02:05:07.658174Z",
     "iopub.status.idle": "2024-06-01T02:05:10.247673Z",
     "shell.execute_reply": "2024-06-01T02:05:10.246757Z",
     "shell.execute_reply.started": "2024-06-01T02:05:07.658635Z"
    },
    "scrolled": true
   },
   "outputs": [
    {
     "name": "stdout",
     "output_type": "stream",
     "text": [
      "cpu Tensor: Place(cpu)\r\n",
      "gpu Tensor: Place(gpu:0)\r\n",
      "pin memory Tensor: Place(gpu_pinned)\r\n"
     ]
    }
   ],
   "source": [
    "# 创建CPU上的张量\n",
    "cpu_Tensor = paddle.to_tensor(1, place = paddle.CPUPlace())\n",
    "# 通过Tensor.place查看张量所在设备的位置\n",
    "print('cpu Tensor:',cpu_Tensor.place)\n",
    "# 创建GPU上的张量\n",
    "gpu_Tensor = paddle.to_tensor(1, place=paddle.CUDAPlace(0))\n",
    "print('gpu Tensor:', gpu_Tensor.place)\n",
    "# 创建固定内存上的张量\n",
    "pin_memory_Tensor = paddle.to_tensor(1, place=paddle.CUDAPinnedPlace())\n",
    "print('pin memory Tensor:', pin_memory_Tensor.place)"
   ]
  },
  {
   "cell_type": "code",
   "execution_count": 13,
   "metadata": {
    "execution": {
     "iopub.execute_input": "2024-06-01T02:05:10.249482Z",
     "iopub.status.busy": "2024-06-01T02:05:10.248927Z",
     "iopub.status.idle": "2024-06-01T02:05:12.846043Z",
     "shell.execute_reply": "2024-06-01T02:05:12.845152Z",
     "shell.execute_reply.started": "2024-06-01T02:05:10.249452Z"
    },
    "scrolled": true
   },
   "outputs": [
    {
     "name": "stdout",
     "output_type": "stream",
     "text": [
      "Tensor to convert: [1. 2.]\r\n"
     ]
    }
   ],
   "source": [
    "# 张量与Numpy数组转换\n",
    "ndim_1_Tensor = paddle.to_tensor([1., 2.])\n",
    "print('Tensor to convert:', ndim_1_Tensor.numpy())"
   ]
  },
  {
   "cell_type": "code",
   "execution_count": 14,
   "metadata": {
    "execution": {
     "iopub.execute_input": "2024-06-01T02:05:12.847629Z",
     "iopub.status.busy": "2024-06-01T02:05:12.847127Z",
     "iopub.status.idle": "2024-06-01T02:05:15.493193Z",
     "shell.execute_reply": "2024-06-01T02:05:15.492395Z",
     "shell.execute_reply.started": "2024-06-01T02:05:12.847601Z"
    },
    "scrolled": true
   },
   "outputs": [
    {
     "name": "stdout",
     "output_type": "stream",
     "text": [
      "Origin Tensor: Tensor(shape=[9], dtype=int64, place=Place(gpu:0), stop_gradient=True,\r\n",
      "       [0, 1, 2, 3, 4, 5, 6, 7, 8])\r\n",
      "First element: Tensor(shape=[], dtype=int64, place=Place(gpu:0), stop_gradient=True,\r\n",
      "       0)\r\n",
      "Last element: Tensor(shape=[], dtype=int64, place=Place(gpu:0), stop_gradient=True,\r\n",
      "       8)\r\n",
      "All element: Tensor(shape=[9], dtype=int64, place=Place(gpu:0), stop_gradient=True,\r\n",
      "       [0, 1, 2, 3, 4, 5, 6, 7, 8])\r\n",
      "Before 3: Tensor(shape=[3], dtype=int64, place=Place(gpu:0), stop_gradient=True,\r\n",
      "       [0, 1, 2])\r\n",
      "Interval of 3: Tensor(shape=[3], dtype=int64, place=Place(gpu:0), stop_gradient=True,\r\n",
      "       [0, 3, 6])\r\n",
      "Reverse: Tensor(shape=[9], dtype=int64, place=Place(gpu:0), stop_gradient=True,\r\n",
      "       [8, 7, 6, 5, 4, 3, 2, 1, 0])\r\n"
     ]
    }
   ],
   "source": [
    "# 定义一个一维张量\n",
    "ndim_1_Tensor = paddle.to_tensor([0,1,2,3,4,5,6,7,8])\n",
    "\n",
    "print('Origin Tensor:',ndim_1_Tensor)\n",
    "print('First element:', ndim_1_Tensor[0])\n",
    "print('Last element:', ndim_1_Tensor[-1])\n",
    "print('All element:',ndim_1_Tensor[:])\n",
    "print('Before 3:',ndim_1_Tensor[:3])\n",
    "print('Interval of 3:',ndim_1_Tensor[::3])\n",
    "print('Reverse:',ndim_1_Tensor[::-1])"
   ]
  },
  {
   "cell_type": "code",
   "execution_count": 15,
   "metadata": {
    "execution": {
     "iopub.execute_input": "2024-06-01T02:05:15.495035Z",
     "iopub.status.busy": "2024-06-01T02:05:15.494307Z",
     "iopub.status.idle": "2024-06-01T02:05:18.955360Z",
     "shell.execute_reply": "2024-06-01T02:05:18.954511Z",
     "shell.execute_reply.started": "2024-06-01T02:05:15.495008Z"
    },
    "scrolled": true
   },
   "outputs": [
    {
     "name": "stdout",
     "output_type": "stream",
     "text": [
      "Origin Tensor: Tensor(shape=[3, 4], dtype=int64, place=Place(gpu:0), stop_gradient=True,\r\n",
      "       [[0 , 1 , 2 , 3 ],\r\n",
      "        [4 , 5 , 6 , 7 ],\r\n",
      "        [8 , 9 , 10, 11]])\r\n",
      "First row Tensor(shape=[4], dtype=int64, place=Place(gpu:0), stop_gradient=True,\r\n",
      "       [0, 1, 2, 3])\r\n",
      "First row: Tensor(shape=[4], dtype=int64, place=Place(gpu:0), stop_gradient=True,\r\n",
      "       [0, 1, 2, 3])\r\n",
      "First column: Tensor(shape=[3], dtype=int64, place=Place(gpu:0), stop_gradient=True,\r\n",
      "       [0, 4, 8])\r\n",
      "Last column: Tensor(shape=[3], dtype=int64, place=Place(gpu:0), stop_gradient=True,\r\n",
      "       [3 , 7 , 11])\r\n",
      "All element: Tensor(shape=[3, 4], dtype=int64, place=Place(gpu:0), stop_gradient=True,\r\n",
      "       [[0 , 1 , 2 , 3 ],\r\n",
      "        [4 , 5 , 6 , 7 ],\r\n",
      "        [8 , 9 , 10, 11]])\r\n",
      "First row and second column: Tensor(shape=[], dtype=int64, place=Place(gpu:0), stop_gradient=True,\r\n",
      "       1)\r\n"
     ]
    }
   ],
   "source": [
    "# 定义一个二维张量\n",
    "ndim_2_Tensor = paddle.to_tensor([[0,1,2,3],[4,5,6,7],[8,9,10,11]])\n",
    "\n",
    "print('Origin Tensor:', ndim_2_Tensor)\n",
    "print('First row',ndim_2_Tensor[0])\n",
    "print('First row:', ndim_2_Tensor[0,:])\n",
    "print('First column:',ndim_2_Tensor[:,0])\n",
    "print('Last column:',ndim_2_Tensor[:,-1])\n",
    "print('All element:',ndim_2_Tensor[:])\n",
    "print('First row and second column:',ndim_2_Tensor[0,1])"
   ]
  },
  {
   "cell_type": "code",
   "execution_count": 16,
   "metadata": {
    "execution": {
     "iopub.execute_input": "2024-06-01T02:05:18.956905Z",
     "iopub.status.busy": "2024-06-01T02:05:18.956408Z",
     "iopub.status.idle": "2024-06-01T02:05:21.677474Z",
     "shell.execute_reply": "2024-06-01T02:05:21.676178Z",
     "shell.execute_reply.started": "2024-06-01T02:05:18.956880Z"
    },
    "scrolled": true
   },
   "outputs": [
    {
     "name": "stdout",
     "output_type": "stream",
     "text": [
      "Origin Tensor: Tensor(shape=[2, 3], dtype=float32, place=Place(gpu:0), stop_gradient=True,\r\n",
      "       [[1., 1., 1.],\r\n",
      "        [1., 1., 1.]])\r\n",
      "change Tensor: Tensor(shape=[2, 3], dtype=float32, place=Place(gpu:0), stop_gradient=True,\r\n",
      "       [[0., 0., 0.],\r\n",
      "        [1., 1., 1.]])\r\n",
      "change Tensor: Tensor(shape=[2, 3], dtype=float32, place=Place(gpu:0), stop_gradient=True,\r\n",
      "       [[2.09999990, 2.09999990, 2.09999990],\r\n",
      "        [1.        , 1.        , 1.        ]])\r\n",
      "change Tensor: Tensor(shape=[2, 3], dtype=float32, place=Place(gpu:0), stop_gradient=True,\r\n",
      "       [[3., 3., 3.],\r\n",
      "        [3., 3., 3.]])\r\n"
     ]
    }
   ],
   "source": [
    "# 定义一个二维张量\n",
    "ndim_2_Tensor = paddle.ones([2,3], dtype = 'float32')\n",
    "print('Origin Tensor:', ndim_2_Tensor)\n",
    "# 修改第一维为0\n",
    "ndim_2_Tensor[0] = 0\n",
    "print('change Tensor:',ndim_2_Tensor)\n",
    "# 修改第一维为2.1\n",
    "ndim_2_Tensor[0:1] = 2.1\n",
    "print('change Tensor:',ndim_2_Tensor)\n",
    "# 修改全部张量\n",
    "ndim_2_Tensor[...] = 3\n",
    "print('change Tensor:',ndim_2_Tensor)"
   ]
  },
  {
   "cell_type": "code",
   "execution_count": 17,
   "metadata": {
    "execution": {
     "iopub.execute_input": "2024-06-01T02:05:21.679002Z",
     "iopub.status.busy": "2024-06-01T02:05:21.678717Z",
     "iopub.status.idle": "2024-06-01T02:05:24.327088Z",
     "shell.execute_reply": "2024-06-01T02:05:24.326349Z",
     "shell.execute_reply.started": "2024-06-01T02:05:21.678980Z"
    },
    "scrolled": true
   },
   "outputs": [
    {
     "name": "stdout",
     "output_type": "stream",
     "text": [
      "Method 1: Tensor(shape=[2, 2], dtype=float64, place=Place(gpu:0), stop_gradient=True,\r\n",
      "       [[6.60000000 , 8.80000000 ],\r\n",
      "        [11.        , 13.20000000]])\r\n",
      "Method 2: Tensor(shape=[2, 2], dtype=float64, place=Place(gpu:0), stop_gradient=True,\r\n",
      "       [[6.60000000 , 8.80000000 ],\r\n",
      "        [11.        , 13.20000000]])\r\n"
     ]
    }
   ],
   "source": [
    "# 定义两个张量\n",
    "x = paddle.to_tensor([[1.1,2.2], [3.3,4.4]], dtype='float64')\n",
    "y = paddle.to_tensor([[5.5,6.6], [7.7,8.8]], dtype='float64')\n",
    "# 第一种调用方法\n",
    "print('Method 1:', paddle.add(x,y))\n",
    "# 第二种调用方法\n",
    "print('Method 2:', x.add(y))"
   ]
  },
  {
   "cell_type": "code",
   "execution_count": 18,
   "metadata": {
    "execution": {
     "iopub.execute_input": "2024-06-01T02:05:24.328594Z",
     "iopub.status.busy": "2024-06-01T02:05:24.328184Z",
     "iopub.status.idle": "2024-06-01T02:05:27.021106Z",
     "shell.execute_reply": "2024-06-01T02:05:27.020287Z",
     "shell.execute_reply.started": "2024-06-01T02:05:24.328566Z"
    },
    "scrolled": true,
    "tags": []
   },
   "outputs": [
    {
     "name": "stdout",
     "output_type": "stream",
     "text": [
      "broadcasting with two same shape tensor: [2, 3, 4]\r\n"
     ]
    }
   ],
   "source": [
    "# 当两个张量的形状一致时，可以广播\n",
    "x = paddle.ones((2,3,4))\n",
    "y = paddle.ones((2,3,4))\n",
    "z = x + y\n",
    "print('broadcasting with two same shape tensor:',z.shape)"
   ]
  },
  {
   "cell_type": "code",
   "execution_count": 23,
   "metadata": {
    "execution": {
     "iopub.execute_input": "2024-06-01T02:08:22.740917Z",
     "iopub.status.busy": "2024-06-01T02:08:22.740226Z",
     "iopub.status.idle": "2024-06-01T02:08:22.748798Z",
     "shell.execute_reply": "2024-06-01T02:08:22.747874Z",
     "shell.execute_reply.started": "2024-06-01T02:08:22.740877Z"
    },
    "scrolled": true
   },
   "outputs": [
    {
     "name": "stdout",
     "output_type": "stream",
     "text": [
      "broadcasting with two different shape tensor: Tensor(shape=[2, 3, 4, 5], dtype=float32, place=Place(gpu:0), stop_gradient=True,\r\n",
      "       [[[[2., 2., 2., 2., 2.],\r\n",
      "          [2., 2., 2., 2., 2.],\r\n",
      "          [2., 2., 2., 2., 2.],\r\n",
      "          [2., 2., 2., 2., 2.]],\r\n",
      "\r\n",
      "         [[2., 2., 2., 2., 2.],\r\n",
      "          [2., 2., 2., 2., 2.],\r\n",
      "          [2., 2., 2., 2., 2.],\r\n",
      "          [2., 2., 2., 2., 2.]],\r\n",
      "\r\n",
      "         [[2., 2., 2., 2., 2.],\r\n",
      "          [2., 2., 2., 2., 2.],\r\n",
      "          [2., 2., 2., 2., 2.],\r\n",
      "          [2., 2., 2., 2., 2.]]],\r\n",
      "\r\n",
      "\r\n",
      "        [[[2., 2., 2., 2., 2.],\r\n",
      "          [2., 2., 2., 2., 2.],\r\n",
      "          [2., 2., 2., 2., 2.],\r\n",
      "          [2., 2., 2., 2., 2.]],\r\n",
      "\r\n",
      "         [[2., 2., 2., 2., 2.],\r\n",
      "          [2., 2., 2., 2., 2.],\r\n",
      "          [2., 2., 2., 2., 2.],\r\n",
      "          [2., 2., 2., 2., 2.]],\r\n",
      "\r\n",
      "         [[2., 2., 2., 2., 2.],\r\n",
      "          [2., 2., 2., 2., 2.],\r\n",
      "          [2., 2., 2., 2., 2.],\r\n",
      "          [2., 2., 2., 2., 2.]]]])\r\n"
     ]
    }
   ],
   "source": [
    "x = paddle.ones((2,3,1,5))\r\n",
    "y = paddle.ones((3,4,1))\r\n",
    "z = x + y\r\n",
    "print('broadcasting with two different shape tensor:',z)"
   ]
  },
  {
   "cell_type": "code",
   "execution_count": 24,
   "metadata": {
    "execution": {
     "iopub.execute_input": "2024-06-01T02:11:49.732884Z",
     "iopub.status.busy": "2024-06-01T02:11:49.731672Z",
     "iopub.status.idle": "2024-06-01T02:11:50.897489Z",
     "shell.execute_reply": "2024-06-01T02:11:50.896393Z",
     "shell.execute_reply.started": "2024-06-01T02:11:49.732829Z"
    },
    "scrolled": true
   },
   "outputs": [
    {
     "name": "stdout",
     "output_type": "stream",
     "text": [
      "After matmul: [10, 3, 5, 5]\r\n"
     ]
    }
   ],
   "source": [
    "x = paddle.ones([10, 1, 5, 2])\r\n",
    "y = paddle.ones([3, 2, 5])\r\n",
    "z = paddle.matmul(x, y)\r\n",
    "print('After matmul:', z.shape)"
   ]
  },
  {
   "cell_type": "code",
   "execution_count": 26,
   "metadata": {
    "execution": {
     "iopub.execute_input": "2024-06-01T02:20:08.437545Z",
     "iopub.status.busy": "2024-06-01T02:20:08.436653Z",
     "iopub.status.idle": "2024-06-01T02:20:08.442706Z",
     "shell.execute_reply": "2024-06-01T02:20:08.441813Z",
     "shell.execute_reply.started": "2024-06-01T02:20:08.437498Z"
    },
    "scrolled": true
   },
   "outputs": [],
   "source": [
    "class Op(object):\r\n",
    "    def __init__(self):\r\n",
    "        pass\r\n",
    "\r\n",
    "    def __call__(self, inputs):\r\n",
    "        return self.forward(inputs)\r\n",
    "\r\n",
    "    # 前向函数\r\n",
    "    # 输入：张量inputs\r\n",
    "    # 输出：张量outputs\r\n",
    "    def forward(self, inputs):\r\n",
    "        # return outputs\r\n",
    "        raise NotImplementedError\r\n",
    "\r\n",
    "    # 反向函数\r\n",
    "    # 输入：最终输出对outputs的梯度outputs_grads\r\n",
    "    # 输出：最终输出对inputs的梯度inputs_grads\r\n",
    "    def backward(self, outputs_grads):\r\n",
    "        # return inputs_grads\r\n",
    "        raise NotImplementedError"
   ]
  },
  {
   "cell_type": "code",
   "execution_count": 27,
   "metadata": {
    "execution": {
     "iopub.execute_input": "2024-06-01T02:20:11.381048Z",
     "iopub.status.busy": "2024-06-01T02:20:11.380335Z",
     "iopub.status.idle": "2024-06-01T02:20:11.386540Z",
     "shell.execute_reply": "2024-06-01T02:20:11.385763Z",
     "shell.execute_reply.started": "2024-06-01T02:20:11.380981Z"
    },
    "scrolled": true
   },
   "outputs": [],
   "source": [
    "# 加法算子\r\n",
    "class add(Op):\r\n",
    "    def __init__(self):\r\n",
    "        super(add, self).__init__()\r\n",
    "\r\n",
    "    def __call__(self, x, y):\r\n",
    "        return self.forward(x, y)\r\n",
    "\r\n",
    "    def forward(self, x, y):\r\n",
    "        self.x = x\r\n",
    "        self.y = y\r\n",
    "        outputs = x + y\r\n",
    "        return outputs\r\n",
    "\r\n",
    "    def backward(self, grads):\r\n",
    "        grads_x = grads * 1\r\n",
    "        grads_y = grads * 1\r\n",
    "        return grads_x, grads_y"
   ]
  },
  {
   "cell_type": "code",
   "execution_count": 28,
   "metadata": {
    "execution": {
     "iopub.execute_input": "2024-06-01T02:22:12.240078Z",
     "iopub.status.busy": "2024-06-01T02:22:12.239431Z",
     "iopub.status.idle": "2024-06-01T02:22:12.248113Z",
     "shell.execute_reply": "2024-06-01T02:22:12.247065Z",
     "shell.execute_reply.started": "2024-06-01T02:22:12.240024Z"
    },
    "scrolled": true
   },
   "outputs": [
    {
     "name": "stdout",
     "output_type": "stream",
     "text": [
      "z: 5\r\n",
      "x's grad is: 1\r\n",
      "y's grad is: 1\r\n"
     ]
    }
   ],
   "source": [
    "x = 1\r\n",
    "y = 4\r\n",
    "add_op = add()\r\n",
    "z =add_op(x, y)\r\n",
    "print('z:',z)\r\n",
    "grads_x, grads_y = add_op.backward(grads=1)\r\n",
    "print(\"x's grad is:\",grads_x)\r\n",
    "print(\"y's grad is:\",grads_y)"
   ]
  },
  {
   "cell_type": "code",
   "execution_count": 29,
   "metadata": {
    "execution": {
     "iopub.execute_input": "2024-06-01T02:26:21.449815Z",
     "iopub.status.busy": "2024-06-01T02:26:21.449192Z",
     "iopub.status.idle": "2024-06-01T02:26:21.456957Z",
     "shell.execute_reply": "2024-06-01T02:26:21.456232Z",
     "shell.execute_reply.started": "2024-06-01T02:26:21.449761Z"
    },
    "scrolled": true
   },
   "outputs": [
    {
     "name": "stdout",
     "output_type": "stream",
     "text": [
      "Tensor a's grad is: Tensor(shape=[], dtype=float32, place=Place(gpu:0), stop_gradient=False,\r\n",
      "       5.)\r\n",
      "Tensor b's grad is: None\r\n",
      "Tensor c's grad is: None\r\n"
     ]
    }
   ],
   "source": [
    "# 定义张量a, stop_gradient=False代表进行梯度传导\r\n",
    "a = paddle.to_tensor(2.0, stop_gradient=False)\r\n",
    "# 定义张量b, stop_gradient=True代表不进行梯度传导\r\n",
    "b= paddle.to_tensor(5.0, stop_gradient=True)\r\n",
    "c = a*b\r\n",
    "# 自动计算反向梯度\r\n",
    "c.backward()\r\n",
    "print(\"Tensor a's grad is: {}\".format(a.grad))\r\n",
    "print(\"Tensor b's grad is: {}\".format(b.grad))\r\n",
    "print(\"Tensor c's grad is: {}\".format(c.grad))"
   ]
  },
  {
   "cell_type": "code",
   "execution_count": null,
   "metadata": {
    "scrolled": true
   },
   "outputs": [],
   "source": []
  }
 ],
 "metadata": {
  "kernelspec": {
   "display_name": "Python 3",
   "language": "python",
   "name": "py35-paddle1.2.0"
  },
  "language_info": {
   "codemirror_mode": {
    "name": "ipython",
    "version": 3
   },
   "file_extension": ".py",
   "mimetype": "text/x-python",
   "name": "python",
   "nbconvert_exporter": "python",
   "pygments_lexer": "ipython3",
   "version": "3.10.10"
  }
 },
 "nbformat": 4,
 "nbformat_minor": 4
}
