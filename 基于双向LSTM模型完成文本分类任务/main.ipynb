{
 "cells": [
  {
   "cell_type": "code",
   "execution_count": 1,
   "metadata": {
    "execution": {
     "iopub.execute_input": "2024-06-19T18:48:00.116969Z",
     "iopub.status.busy": "2024-06-19T18:48:00.116612Z",
     "iopub.status.idle": "2024-06-19T18:48:04.471881Z",
     "shell.execute_reply": "2024-06-19T18:48:04.470788Z",
     "shell.execute_reply.started": "2024-06-19T18:48:00.116921Z"
    },
    "scrolled": true
   },
   "outputs": [
    {
     "name": "stderr",
     "output_type": "stream",
     "text": [
      "/opt/conda/envs/python35-paddle120-env/lib/python3.10/site-packages/tqdm/auto.py:21: TqdmWarning: IProgress not found. Please update jupyter and ipywidgets. See https://ipywidgets.readthedocs.io/en/stable/user_install.html\r\n",
      "  from .autonotebook import tqdm as notebook_tqdm\r\n",
      "/opt/conda/envs/python35-paddle120-env/lib/python3.10/site-packages/_distutils_hack/__init__.py:33: UserWarning: Setuptools is replacing distutils.\r\n",
      "  warnings.warn(\"Setuptools is replacing distutils.\")\r\n"
     ]
    }
   ],
   "source": [
    "import os\r\n",
    "import random\r\n",
    "import numpy as np\r\n",
    "import pandas as pd\r\n",
    "# 导入Paddle的API\r\n",
    "import paddle\r\n",
    "import paddle.nn as nn\r\n",
    "import paddle.nn.functional as F\r\n",
    "from paddle.nn import LSTM, Embedding, Dropout, Linear\r\n",
    "\r\n",
    "from paddlenlp.datasets import load_dataset\r\n",
    "from paddlenlp.utils.downloader import get_path_from_url"
   ]
  },
  {
   "cell_type": "code",
   "execution_count": 2,
   "metadata": {
    "execution": {
     "iopub.execute_input": "2024-06-19T18:48:04.474479Z",
     "iopub.status.busy": "2024-06-19T18:48:04.473822Z",
     "iopub.status.idle": "2024-06-19T18:48:04.478635Z",
     "shell.execute_reply": "2024-06-19T18:48:04.477878Z",
     "shell.execute_reply.started": "2024-06-19T18:48:04.474448Z"
    },
    "scrolled": true
   },
   "outputs": [],
   "source": [
    "URL = \"https://bj.bcebos.com/paddlenlp/datasets/ChnSentiCorp.zip\"\r\n",
    "# 如果数据集不存在，就下载数据集并解压\r\n",
    "if(not os.path.exists('ChnSentiCorp.zip')):\r\n",
    "    get_path_from_url(URL,root_dir='.')"
   ]
  },
  {
   "cell_type": "code",
   "execution_count": 3,
   "metadata": {
    "execution": {
     "iopub.execute_input": "2024-06-19T18:48:04.479918Z",
     "iopub.status.busy": "2024-06-19T18:48:04.479606Z",
     "iopub.status.idle": "2024-06-19T18:48:04.486508Z",
     "shell.execute_reply": "2024-06-19T18:48:04.485803Z",
     "shell.execute_reply.started": "2024-06-19T18:48:04.479895Z"
    },
    "scrolled": true
   },
   "outputs": [],
   "source": [
    "def load_imdb_data(path):\r\n",
    "    assert os.path.exists(path) \r\n",
    "    trainset, devset, testset = [], [], []\r\n",
    "\r\n",
    "    with open(os.path.join(path, \"train.tsv\"), \"r\") as fr:\r\n",
    "        for i, line in enumerate(fr):\r\n",
    "            if i == 0:  # 跳过第一行\r\n",
    "                continue\r\n",
    "            sentence_label, sentence = line.strip().lower().split(\"\\t\")\r\n",
    "            trainset.append((sentence, int(sentence_label)))\r\n",
    "\r\n",
    "    with open(os.path.join(path, \"dev.tsv\"), \"r\") as fr:\r\n",
    "        for i, line in enumerate(fr):\r\n",
    "            if i == 0:  # 跳过第一行\r\n",
    "                continue\r\n",
    "            sentence_qid, sentence_label, sentence = line.strip().lower().split(\"\\t\")\r\n",
    "            devset.append((sentence, int(sentence_label)))\r\n",
    "\r\n",
    "    with open(os.path.join(path, \"test.tsv\"), \"r\") as fr:\r\n",
    "        for i, line in enumerate(fr):\r\n",
    "            if i == 0:  # 跳过第一行\r\n",
    "                continue\r\n",
    "            sentence_qid, sentence = line.strip().lower().split(\"\\t\")\r\n",
    "            testset.append((sentence, -1))\r\n",
    "\r\n",
    "    return trainset, devset, testset"
   ]
  },
  {
   "cell_type": "code",
   "execution_count": 4,
   "metadata": {
    "execution": {
     "iopub.execute_input": "2024-06-19T18:48:04.487721Z",
     "iopub.status.busy": "2024-06-19T18:48:04.487413Z",
     "iopub.status.idle": "2024-06-19T18:48:04.524857Z",
     "shell.execute_reply": "2024-06-19T18:48:04.524048Z",
     "shell.execute_reply.started": "2024-06-19T18:48:04.487690Z"
    },
    "scrolled": true
   },
   "outputs": [],
   "source": [
    "train_data, dev_data, test_data = load_imdb_data(\"./ChnSentiCorp/ChnSentiCorp/\") "
   ]
  },
  {
   "cell_type": "code",
   "execution_count": 5,
   "metadata": {
    "execution": {
     "iopub.execute_input": "2024-06-19T18:48:04.526234Z",
     "iopub.status.busy": "2024-06-19T18:48:04.525886Z",
     "iopub.status.idle": "2024-06-19T18:48:04.531187Z",
     "shell.execute_reply": "2024-06-19T18:48:04.530422Z",
     "shell.execute_reply.started": "2024-06-19T18:48:04.526210Z"
    },
    "scrolled": true
   },
   "outputs": [
    {
     "name": "stdout",
     "output_type": "stream",
     "text": [
      "train data length: 9600\r\n",
      "train data example:  ('15.4寸笔记本的键盘确实爽，基本跟台式机差不多了，蛮喜欢数字小键盘，输数字特方便，样子也很美观，做工也相当不错', 1)\r\n",
      "dev data length: 1200\r\n",
      "dev data example:  ('<荐书> 推荐所有喜欢<红楼>的红迷们一定要收藏这本书,要知道当年我听说这本书的时候花很长时间去图书馆找和借都没能如愿,所以这次一看到当当有,马上买了,红迷们也要记得备货哦!', 1)\r\n",
      "test data length: 1200\r\n",
      "test data example:  ('怀着十分激动的心情放映，可是看着看着发现，在放映完毕后，出现一集米老鼠的动画片！开始还怀疑是不是赠送的个别现象，可是后来发现每张dvd后面都有！真不知道生产商怎么想的，我想看的是猫和老鼠，不是米老鼠！如果厂家是想赠送的话，那就全套米老鼠和唐老鸭都赠送，只在每张dvd后面添加一集算什么？？简直是画蛇添足！！', -1)\r\n"
     ]
    }
   ],
   "source": [
    "print(\"train data length: {}\".format(len(train_data)))\r\n",
    "print(\"train data example: \",train_data[1])\r\n",
    "print(\"dev data length: {}\".format(len(dev_data)))\r\n",
    "print(\"dev data example: \",dev_data[1])\r\n",
    "print(\"test data length: {}\".format(len(test_data)))\r\n",
    "print(\"test data example: \",test_data[1])"
   ]
  },
  {
   "cell_type": "code",
   "execution_count": 6,
   "metadata": {
    "execution": {
     "iopub.execute_input": "2024-06-19T18:48:04.532337Z",
     "iopub.status.busy": "2024-06-19T18:48:04.532113Z",
     "iopub.status.idle": "2024-06-19T18:48:04.539057Z",
     "shell.execute_reply": "2024-06-19T18:48:04.538366Z",
     "shell.execute_reply.started": "2024-06-19T18:48:04.532318Z"
    },
    "scrolled": true
   },
   "outputs": [],
   "source": [
    "from collections import defaultdict\r\n",
    "import jieba\r\n",
    "from paddlenlp.data import Vocab\r\n",
    "\r\n",
    "# 构建词表\r\n",
    "def build_vocab(texts,\r\n",
    "                stopwords=[],\r\n",
    "                num_words=None,\r\n",
    "                min_freq=10,\r\n",
    "                unk_token=\"[UNK]\",\r\n",
    "                pad_token=\"[PAD]\"):\r\n",
    "    word_counts = defaultdict(int)\r\n",
    "    for text in texts:\r\n",
    "        if not text:\r\n",
    "            continue\r\n",
    "        # # 统计词频\r\n",
    "        # 一般来说，在自然语言处理中，需要先对语料进行切词，英文可以使用空格把每个句子切成若干词的序列\r\n",
    "        # 对于中文则需要使用结巴分词进行切分\r\n",
    "        for word in jieba.cut(text):\r\n",
    "            if word in stopwords:\r\n",
    "                continue\r\n",
    "            word_counts[word] += 1\r\n",
    "    # 过滤掉词频小于min_freq的单词\r\n",
    "    wcounts = []\r\n",
    "    for word, count in word_counts.items():\r\n",
    "        if count < min_freq:\r\n",
    "            continue\r\n",
    "        wcounts.append((word, count))\r\n",
    "    # 把单词按照词频从大到小进行排序\r\n",
    "    wcounts.sort(key=lambda x: x[1], reverse=True)\r\n",
    "    # 把对齐的字符和unk字符加入到词表中\r\n",
    "    if num_words is not None and len(wcounts) > (num_words - 2):\r\n",
    "        wcounts = wcounts[:(num_words - 2)]\r\n",
    "    # pad字符和unk字符\r\n",
    "    sorted_voc = [pad_token, unk_token]\r\n",
    "    sorted_voc.extend(wc[0] for wc in wcounts)\r\n",
    "    # 给每个单词一个编号\r\n",
    "    word_index = dict(zip(sorted_voc, list(range(len(sorted_voc)))))\r\n",
    "    return word_index"
   ]
  },
  {
   "cell_type": "code",
   "execution_count": 7,
   "metadata": {
    "execution": {
     "iopub.execute_input": "2024-06-19T18:48:04.540313Z",
     "iopub.status.busy": "2024-06-19T18:48:04.540025Z",
     "iopub.status.idle": "2024-06-19T18:48:04.547214Z",
     "shell.execute_reply": "2024-06-19T18:48:04.546519Z",
     "shell.execute_reply.started": "2024-06-19T18:48:04.540293Z"
    },
    "scrolled": true
   },
   "outputs": [
    {
     "name": "stdout",
     "output_type": "stream",
     "text": [
      "10800\r\n",
      "['选择珠江花园的原因就是方便，有电动扶梯直接到达海边，周围餐馆、食廊、商场、超市、摊位一应俱全。酒店装修一般，但还算整洁。 泳池在大堂的屋顶，因此很小，不过女儿倒是喜欢。 包的早餐是西式的，还算丰富。 服务吗，一般', '15.4寸笔记本的键盘确实爽，基本跟台式机差不多了，蛮喜欢数字小键盘，输数字特方便，样子也很美观，做工也相当不错', '房间太小。其他的都一般。。。。。。。。。', '1.接电源没有几分钟,电源适配器热的不行. 2.摄像头用不起来. 3.机盖的钢琴漆，手不能摸，一摸一个印. 4.硬盘分区不好办.', '今天才知道这书还有第6卷,真有点郁闷:为什么同一套书有两种版本呢?当当网是不是该跟出版社商量商量,单独出个第6卷,让我们的孩子不会有所遗憾。']\r\n"
     ]
    }
   ],
   "source": [
    "texts = []\r\n",
    "for data in train_data:\r\n",
    "    texts.append(data[0])\r\n",
    "for data in dev_data:\r\n",
    "    texts.append(data[0])\r\n",
    "print(len(texts))\r\n",
    "print(texts[:5])"
   ]
  },
  {
   "cell_type": "code",
   "execution_count": 8,
   "metadata": {
    "execution": {
     "iopub.execute_input": "2024-06-19T18:48:04.548309Z",
     "iopub.status.busy": "2024-06-19T18:48:04.548091Z",
     "iopub.status.idle": "2024-06-19T18:48:10.591769Z",
     "shell.execute_reply": "2024-06-19T18:48:10.590922Z",
     "shell.execute_reply.started": "2024-06-19T18:48:04.548290Z"
    },
    "scrolled": true,
    "tags": []
   },
   "outputs": [
    {
     "name": "stderr",
     "output_type": "stream",
     "text": [
      "Building prefix dict from the default dictionary ...\r\n",
      "[2024-06-20 02:48:04,550] [   DEBUG] __init__.py:113 - Building prefix dict from the default dictionary ...\r\n",
      "Loading model from cache /tmp/jieba.cache\r\n",
      "[2024-06-20 02:48:04,551] [   DEBUG] __init__.py:132 - Loading model from cache /tmp/jieba.cache\r\n",
      "Loading model cost 0.887 seconds.\r\n",
      "[2024-06-20 02:48:05,438] [   DEBUG] __init__.py:164 - Loading model cost 0.887 seconds.\r\n",
      "Prefix dict has been built successfully.\r\n",
      "[2024-06-20 02:48:05,440] [   DEBUG] __init__.py:166 - Prefix dict has been built successfully.\r\n"
     ]
    },
    {
     "name": "stdout",
     "output_type": "stream",
     "text": [
      "[('[PAD]', 0), ('[UNK]', 1), ('，', 2), ('。', 3), ('了', 4), (' ', 5), ('是', 6), (',', 7), ('我', 8), ('很', 9)]\r\n"
     ]
    }
   ],
   "source": [
    "# 以下停用词仅用作示例，具体停用词的选择需要根据具体语料库调整。\r\n",
    "stopwords = set([\"的\", \"吗\", \"吧\", \"呀\", \"呜\", \"呢\", \"呗\"])\r\n",
    "# 构建词汇表\r\n",
    "word2idx = build_vocab(\r\n",
    "    texts, stopwords, min_freq=5, unk_token=\"[UNK]\", pad_token=\"[PAD]\")\r\n",
    "print(list(word2idx.items())[:10])"
   ]
  },
  {
   "cell_type": "code",
   "execution_count": 9,
   "metadata": {
    "execution": {
     "iopub.execute_input": "2024-06-19T18:48:10.593594Z",
     "iopub.status.busy": "2024-06-19T18:48:10.592882Z",
     "iopub.status.idle": "2024-06-19T18:48:10.606788Z",
     "shell.execute_reply": "2024-06-19T18:48:10.606030Z",
     "shell.execute_reply.started": "2024-06-19T18:48:10.593565Z"
    },
    "scrolled": true
   },
   "outputs": [],
   "source": [
    "vocab = Vocab.from_dict(word2idx, unk_token=\"[UNK]\", pad_token=\"[PAD]\")\r\n",
    "# 保存词汇表\r\n",
    "res=vocab.to_json(\"./vocab.json\")"
   ]
  },
  {
   "cell_type": "code",
   "execution_count": 10,
   "metadata": {
    "execution": {
     "iopub.execute_input": "2024-06-19T18:48:10.608192Z",
     "iopub.status.busy": "2024-06-19T18:48:10.607751Z",
     "iopub.status.idle": "2024-06-19T18:48:10.616638Z",
     "shell.execute_reply": "2024-06-19T18:48:10.616027Z",
     "shell.execute_reply.started": "2024-06-19T18:48:10.608167Z"
    },
    "scrolled": true
   },
   "outputs": [
    {
     "name": "stdout",
     "output_type": "stream",
     "text": [
      "分词后的文本:['选择', '珠江', '花园', '的', '原因', '就是', '方便', '，', '有', '电动', '扶梯', '直接', '到达', '海边', '，', '周围', '餐馆', '、', '食廊', '、', '商', '场', '、', '超市', '、', '摊位', '一应', '俱全', '。']\r\n",
      "把分词后的文本转换成id:[198, 1, 1603, 1, 407, 38, 105, 2, 16, 1, 1, 350, 989, 1706, 2, 663, 3102, 26, 1, 26, 1, 6202, 26, 1459, 26, 1, 1, 1, 3]\r\n",
      "encode 编码后的id: [198, 1, 1603, 1, 407, 38, 105, 2, 16, 1, 1, 350, 989, 1706, 2, 663, 3102, 26, 1, 26, 1, 6202, 26, 1459, 26, 1, 1, 1, 3]\r\n"
     ]
    }
   ],
   "source": [
    "from paddlenlp.data import JiebaTokenizer\r\n",
    "\r\n",
    "def get_idx_from_word(word, word_to_idx, unk_word):\r\n",
    "    if word in word_to_idx:\r\n",
    "        return word_to_idx[word]\r\n",
    "    return word_to_idx[unk_word]\r\n",
    "\r\n",
    "# 把词汇表加载到结巴分词器中\r\n",
    "# JiebaTokenizer的encode的作用就是对文本进行分词，然后根据词汇表把文本转换成id的形式。\r\n",
    "tokenizer = JiebaTokenizer(vocab)\r\n",
    "text='选择珠江花园的原因就是方便，有电动扶梯直接到达海边，周围餐馆、食廊、商场、超市、摊位一应俱全。'\r\n",
    "segment_text=tokenizer.cut(text)\r\n",
    "print(\"分词后的文本:{}\".format(segment_text))\r\n",
    "input_ids = [get_idx_from_word(word,vocab.token_to_idx,vocab.unk_token) for word in segment_text]\r\n",
    "print(\"把分词后的文本转换成id:{}\".format(input_ids))\r\n",
    "\r\n",
    "input_ids = tokenizer.encode(text)\r\n",
    "print(\"encode 编码后的id: {}\".format(input_ids))"
   ]
  },
  {
   "cell_type": "code",
   "execution_count": 11,
   "metadata": {
    "execution": {
     "iopub.execute_input": "2024-06-19T18:48:10.619888Z",
     "iopub.status.busy": "2024-06-19T18:48:10.619516Z",
     "iopub.status.idle": "2024-06-19T18:48:10.625262Z",
     "shell.execute_reply": "2024-06-19T18:48:10.624680Z",
     "shell.execute_reply.started": "2024-06-19T18:48:10.619863Z"
    },
    "scrolled": true
   },
   "outputs": [],
   "source": [
    "import paddle\r\n",
    "import paddle.nn as nn\r\n",
    "from paddle.io import Dataset\r\n",
    "\r\n",
    "class IMDBDataset(Dataset):\r\n",
    "    def __init__(self, examples, word2id_dict):\r\n",
    "        super(IMDBDataset, self).__init__()\r\n",
    "        self.word2id_dict = word2id_dict\r\n",
    "        self.examples = self.words_to_id(examples)\r\n",
    "\r\n",
    "    def words_to_id(self, examples):\r\n",
    "        tmp_examples = []\r\n",
    "        for idx, example in enumerate(examples):\r\n",
    "            seq, label = example\r\n",
    "            segment_seq = tokenizer.cut(seq)\r\n",
    "            seq = [get_idx_from_word(word,self.word2id_dict.token_to_idx, self.word2id_dict.unk_token) for word in segment_seq]\r\n",
    "            tmp_examples.append([seq, label])\r\n",
    "        return tmp_examples\r\n",
    "\r\n",
    "    def __getitem__(self, idx):\r\n",
    "        seq, label = self.examples[idx]\r\n",
    "        return seq, label \r\n",
    "\r\n",
    "    def __len__(self):\r\n",
    "        return len(self.examples)"
   ]
  },
  {
   "cell_type": "code",
   "execution_count": 12,
   "metadata": {
    "execution": {
     "iopub.execute_input": "2024-06-19T18:48:10.626560Z",
     "iopub.status.busy": "2024-06-19T18:48:10.626103Z",
     "iopub.status.idle": "2024-06-19T18:48:16.565405Z",
     "shell.execute_reply": "2024-06-19T18:48:16.564642Z",
     "shell.execute_reply.started": "2024-06-19T18:48:10.626534Z"
    },
    "scrolled": true
   },
   "outputs": [],
   "source": [
    "train_set = IMDBDataset(train_data, vocab)\r\n",
    "dev_set = IMDBDataset(dev_data, vocab)\r\n",
    "test_set = IMDBDataset(test_data, vocab)"
   ]
  },
  {
   "cell_type": "code",
   "execution_count": 13,
   "metadata": {
    "execution": {
     "iopub.execute_input": "2024-06-19T18:48:16.567127Z",
     "iopub.status.busy": "2024-06-19T18:48:16.566420Z",
     "iopub.status.idle": "2024-06-19T18:48:16.571633Z",
     "shell.execute_reply": "2024-06-19T18:48:16.570840Z",
     "shell.execute_reply.started": "2024-06-19T18:48:16.567099Z"
    },
    "scrolled": true
   },
   "outputs": [
    {
     "name": "stdout",
     "output_type": "stream",
     "text": [
      "train data:\r\n",
      "('15.4寸笔记本的键盘确实爽，基本跟台式机差不多了，蛮喜欢数字小键盘，输数字特方便，样子也很美观，做工也相当不错', 1)\r\n",
      "([601, 18, 130, 1, 1, 1, 182, 1, 2, 343, 231, 1, 1, 8408, 4, 2, 744, 58, 3224, 88, 182, 2, 1, 3224, 2247, 105, 2, 540, 11, 9, 2309, 2, 305, 11, 370, 25], 1)\r\n",
      "\r\n",
      "dev data:\r\n",
      "('<荐书> 推荐所有喜欢<红楼>的红迷们一定要收藏这本书,要知道当年我听说这本书的时候花很长时间去图书馆找和借都没能如愿,所以这次一看到当当有,马上买了,红迷们也要记得备货哦!', 1)\r\n",
      "([1051, 2687, 45, 912, 5, 178, 329, 1, 1, 1051, 7475, 912, 1, 1, 257, 3639, 5733, 466, 45, 7, 40, 72, 2459, 8, 932, 466, 45, 1, 73, 643, 3000, 159, 42, 3437, 195, 23, 2508, 15, 4644, 1, 7, 118, 308, 703, 32, 303, 16, 7, 659, 41, 4, 7, 1, 11, 40, 1004, 1, 638, 59], 1)\r\n",
      "\r\n",
      "test data:\r\n",
      "('怀着十分激动的心情放映，可是看着看着发现，在放映完毕后，出现一集米老鼠的动画片！开始还怀疑是不是赠送的个别现象，可是后来发现每张dvd后面都有！真不知道生产商怎么想的，我想看的是猫和老鼠，不是米老鼠！如果厂家是想赠送的话，那就全套米老鼠和唐老鸭都赠送，只在每张dvd后面添加一集算什么？？简直是画蛇添足！！', -1)\r\n",
      "([1, 115, 634, 4252, 1, 612, 1, 2, 247, 513, 513, 123, 2, 12, 1, 3317, 71, 2, 531, 8866, 1365, 3348, 1, 6315, 10, 211, 20, 957, 6, 62, 1171, 1, 3157, 1437, 2, 247, 233, 123, 1, 1683, 681, 15, 16, 10, 431, 438, 1058, 1, 185, 100, 1, 2, 8, 100, 27, 1, 6, 2528, 23, 3348, 2, 62, 1365, 3348, 10, 112, 3393, 6, 100, 1171, 1, 822, 2, 186, 17, 3217, 1365, 3348, 23, 1, 468, 1, 15, 1171, 2, 256, 12, 1, 1683, 681, 1, 551, 8866, 244, 66, 54, 54, 456, 6, 1533, 1, 1, 10, 10], -1)\r\n"
     ]
    }
   ],
   "source": [
    "print(\"train data:\")\r\n",
    "print(train_data[1])\r\n",
    "print(train_set[1])\r\n",
    "print(\"\\ndev data:\")\r\n",
    "print(dev_data[1])\r\n",
    "print(dev_set[1])\r\n",
    "print(\"\\ntest data:\")\r\n",
    "print(test_data[1])\r\n",
    "print(test_set[1])"
   ]
  },
  {
   "cell_type": "code",
   "execution_count": 20,
   "metadata": {
    "execution": {
     "iopub.execute_input": "2024-06-19T18:49:35.471555Z",
     "iopub.status.busy": "2024-06-19T18:49:35.470830Z",
     "iopub.status.idle": "2024-06-19T18:49:35.477002Z",
     "shell.execute_reply": "2024-06-19T18:49:35.476336Z",
     "shell.execute_reply.started": "2024-06-19T18:49:35.471523Z"
    },
    "scrolled": true
   },
   "outputs": [],
   "source": [
    "from functools import partial \r\n",
    "\r\n",
    "def collate_fn(batch_data, pad_val=0, max_seq_len=256):\r\n",
    "    seqs, seq_lens, labels = [], [], []\r\n",
    "    max_len = 0\r\n",
    "    for example in batch_data:\r\n",
    "        seq, label = example \r\n",
    "        seq = seq[:max_seq_len]\r\n",
    "        seqs.append(seq)\r\n",
    "        seq_lens.append(len(seq))\r\n",
    "        labels.append(label)\r\n",
    "        max_len = max(max_len, len(seq))\r\n",
    "    for i in range(len(seqs)):\r\n",
    "        seqs[i] = seqs[i] + [pad_val] * (max_len - len(seqs[i]))\r\n",
    "    return (paddle.to_tensor(seqs), paddle.to_tensor(seq_lens)), paddle.to_tensor(labels)"
   ]
  },
  {
   "cell_type": "code",
   "execution_count": 21,
   "metadata": {
    "execution": {
     "iopub.execute_input": "2024-06-19T18:50:03.629036Z",
     "iopub.status.busy": "2024-06-19T18:50:03.628511Z",
     "iopub.status.idle": "2024-06-19T18:50:03.634377Z",
     "shell.execute_reply": "2024-06-19T18:50:03.633692Z",
     "shell.execute_reply.started": "2024-06-19T18:50:03.629007Z"
    },
    "scrolled": true
   },
   "outputs": [],
   "source": [
    "from paddle import io\r\n",
    "\r\n",
    "max_seq_len = 256\r\n",
    "batch_size = 128\r\n",
    "collate_fn = partial(collate_fn, pad_val=0, max_seq_len=max_seq_len)\r\n",
    "train_loader = io.DataLoader(train_set, batch_size=batch_size, shuffle=True, drop_last=False, collate_fn=collate_fn)\r\n",
    "dev_loader = io.DataLoader(dev_set, batch_size=batch_size, shuffle=False, drop_last=False, collate_fn=collate_fn)\r\n",
    "test_loader = io.DataLoader(test_set, batch_size=batch_size, shuffle=False, drop_last=False, collate_fn=collate_fn)"
   ]
  },
  {
   "cell_type": "code",
   "execution_count": 23,
   "metadata": {
    "execution": {
     "iopub.execute_input": "2024-06-19T18:50:37.354594Z",
     "iopub.status.busy": "2024-06-19T18:50:37.354019Z",
     "iopub.status.idle": "2024-06-19T18:50:37.360008Z",
     "shell.execute_reply": "2024-06-19T18:50:37.359308Z",
     "shell.execute_reply.started": "2024-06-19T18:50:37.354563Z"
    },
    "scrolled": true
   },
   "outputs": [],
   "source": [
    "class AveragePooling(nn.Layer):\r\n",
    "    def __init__(self):\r\n",
    "        super(AveragePooling, self).__init__()\r\n",
    "\r\n",
    "    def forward(self, sequence_output, sequence_length):\r\n",
    "        sequence_length = paddle.cast(sequence_length.unsqueeze(-1), dtype=\"float32\")\r\n",
    "        max_len = sequence_output.shape[1]\r\n",
    "        mask = paddle.arange(max_len) < sequence_length \r\n",
    "        mask = paddle.cast(mask, dtype='float32').unsqueeze(-1)\r\n",
    "        sequence_output = paddle.multiply(sequence_output, mask)\r\n",
    "        batch_mean_hidden = paddle.divide(paddle.sum(sequence_output, axis=1), sequence_length)\r\n",
    "        return batch_mean_hidden"
   ]
  },
  {
   "cell_type": "code",
   "execution_count": 17,
   "metadata": {
    "execution": {
     "iopub.execute_input": "2024-06-19T18:48:16.590779Z",
     "iopub.status.busy": "2024-06-19T18:48:16.590485Z",
     "iopub.status.idle": "2024-06-19T18:48:16.596167Z",
     "shell.execute_reply": "2024-06-19T18:48:16.595592Z",
     "shell.execute_reply.started": "2024-06-19T18:48:16.590759Z"
    },
    "scrolled": true
   },
   "outputs": [],
   "source": [
    "class Model_BiLSTM_FC(nn.Layer):\r\n",
    "    def __init__(self, num_embeddings, input_size, hidden_size, num_classes=2):\r\n",
    "        super(Model_BiLSTM_FC, self).__init__()\r\n",
    "        self.num_embeddings = num_embeddings\r\n",
    "        self.inout_size = input_size\r\n",
    "        self.hidden_size = hidden_size\r\n",
    "        self.num_classes = num_classes\r\n",
    "        self.embedding_layer = nn.Embedding(num_embeddings, input_size, padding_idx=0)\r\n",
    "        self.lstm_layer = nn.LSTM(input_size, hidden_size, direction=\"bidirectional\")\r\n",
    "        self.average_layer = AveragePooling()\r\n",
    "        self.output_layer = nn.Linear(hidden_size*2, num_classes)\r\n",
    "\r\n",
    "    def forward(self, inputs):\r\n",
    "        input_ids, sequence_length = inputs\r\n",
    "        inputs_emb = self.embedding_layer(input_ids)\r\n",
    "        sequence_output, _ = self.lstm_layer(inputs_emb, sequence_length=sequence_length)\r\n",
    "        batch_mean_hidden = self.average_layer(sequence_output, sequence_length)\r\n",
    "        logits = self.output_layer(batch_mean_hidden)\r\n",
    "        return logits"
   ]
  },
  {
   "cell_type": "code",
   "execution_count": 24,
   "metadata": {
    "execution": {
     "iopub.execute_input": "2024-06-19T18:50:41.858853Z",
     "iopub.status.busy": "2024-06-19T18:50:41.858348Z",
     "iopub.status.idle": "2024-06-19T18:50:58.224137Z",
     "shell.execute_reply": "2024-06-19T18:50:58.223388Z",
     "shell.execute_reply.started": "2024-06-19T18:50:41.858826Z"
    },
    "scrolled": true
   },
   "outputs": [
    {
     "name": "stdout",
     "output_type": "stream",
     "text": [
      "[Train] epoch: 0/5, step: 0/375, loss: 0.69321\r\n",
      "[Train] epoch: 0/5, step: 10/375, loss: 0.67800\r\n",
      "[Evaluate]  dev score: 0.74667, dev loss: 0.67704\r\n",
      "[Evaluate] best accuracy performence has been updated: 0.00000 --> 0.74667\r\n",
      "[Train] epoch: 0/5, step: 20/375, loss: 0.54345\r\n",
      "[Evaluate]  dev score: 0.74917, dev loss: 0.51452\r\n",
      "[Evaluate] best accuracy performence has been updated: 0.74667 --> 0.74917\r\n",
      "[Train] epoch: 0/5, step: 30/375, loss: 0.44459\r\n",
      "[Evaluate]  dev score: 0.83917, dev loss: 0.36812\r\n",
      "[Evaluate] best accuracy performence has been updated: 0.74917 --> 0.83917\r\n",
      "[Train] epoch: 0/5, step: 40/375, loss: 0.31414\r\n",
      "[Evaluate]  dev score: 0.86417, dev loss: 0.33032\r\n",
      "[Evaluate] best accuracy performence has been updated: 0.83917 --> 0.86417\r\n",
      "[Train] epoch: 0/5, step: 50/375, loss: 0.29653\r\n",
      "[Evaluate]  dev score: 0.87833, dev loss: 0.30288\r\n",
      "[Evaluate] best accuracy performence has been updated: 0.86417 --> 0.87833\r\n",
      "[Train] epoch: 0/5, step: 60/375, loss: 0.28413\r\n",
      "[Evaluate]  dev score: 0.87667, dev loss: 0.29626\r\n",
      "[Train] epoch: 0/5, step: 70/375, loss: 0.45170\r\n",
      "[Evaluate]  dev score: 0.86917, dev loss: 0.31136\r\n",
      "[Train] epoch: 1/5, step: 80/375, loss: 0.18225\r\n",
      "[Evaluate]  dev score: 0.87417, dev loss: 0.33068\r\n",
      "[Train] epoch: 1/5, step: 90/375, loss: 0.28202\r\n",
      "[Evaluate]  dev score: 0.88167, dev loss: 0.30079\r\n",
      "[Evaluate] best accuracy performence has been updated: 0.87833 --> 0.88167\r\n",
      "[Train] epoch: 1/5, step: 100/375, loss: 0.14592\r\n",
      "[Evaluate]  dev score: 0.88583, dev loss: 0.29304\r\n",
      "[Evaluate] best accuracy performence has been updated: 0.88167 --> 0.88583\r\n",
      "[Train] epoch: 1/5, step: 110/375, loss: 0.22627\r\n",
      "[Evaluate]  dev score: 0.88833, dev loss: 0.28575\r\n",
      "[Evaluate] best accuracy performence has been updated: 0.88583 --> 0.88833\r\n",
      "[Train] epoch: 1/5, step: 120/375, loss: 0.25192\r\n",
      "[Evaluate]  dev score: 0.89583, dev loss: 0.27376\r\n",
      "[Evaluate] best accuracy performence has been updated: 0.88833 --> 0.89583\r\n",
      "[Train] epoch: 1/5, step: 130/375, loss: 0.21124\r\n",
      "[Evaluate]  dev score: 0.89833, dev loss: 0.28874\r\n",
      "[Evaluate] best accuracy performence has been updated: 0.89583 --> 0.89833\r\n",
      "[Train] epoch: 1/5, step: 140/375, loss: 0.19647\r\n",
      "[Evaluate]  dev score: 0.90417, dev loss: 0.27286\r\n",
      "[Evaluate] best accuracy performence has been updated: 0.89833 --> 0.90417\r\n",
      "[Train] epoch: 2/5, step: 150/375, loss: 0.10744\r\n",
      "[Evaluate]  dev score: 0.90167, dev loss: 0.26071\r\n",
      "[Train] epoch: 2/5, step: 160/375, loss: 0.12326\r\n",
      "[Evaluate]  dev score: 0.91333, dev loss: 0.28005\r\n",
      "[Evaluate] best accuracy performence has been updated: 0.90417 --> 0.91333\r\n",
      "[Train] epoch: 2/5, step: 170/375, loss: 0.08777\r\n",
      "[Evaluate]  dev score: 0.89667, dev loss: 0.29857\r\n",
      "[Train] epoch: 2/5, step: 180/375, loss: 0.13403\r\n",
      "[Evaluate]  dev score: 0.90250, dev loss: 0.27414\r\n",
      "[Train] epoch: 2/5, step: 190/375, loss: 0.09170\r\n",
      "[Evaluate]  dev score: 0.89500, dev loss: 0.26387\r\n",
      "[Train] epoch: 2/5, step: 200/375, loss: 0.15457\r\n",
      "[Evaluate]  dev score: 0.89833, dev loss: 0.26276\r\n",
      "[Train] epoch: 2/5, step: 210/375, loss: 0.11502\r\n",
      "[Evaluate]  dev score: 0.90583, dev loss: 0.25488\r\n",
      "[Train] epoch: 2/5, step: 220/375, loss: 0.15391\r\n",
      "[Evaluate]  dev score: 0.90583, dev loss: 0.25238\r\n",
      "[Train] epoch: 3/5, step: 230/375, loss: 0.21112\r\n",
      "[Evaluate]  dev score: 0.88917, dev loss: 0.27903\r\n",
      "[Train] epoch: 3/5, step: 240/375, loss: 0.07731\r\n",
      "[Evaluate]  dev score: 0.89917, dev loss: 0.27126\r\n",
      "[Train] epoch: 3/5, step: 250/375, loss: 0.06715\r\n",
      "[Evaluate]  dev score: 0.90083, dev loss: 0.28173\r\n",
      "[Train] epoch: 3/5, step: 260/375, loss: 0.03922\r\n",
      "[Evaluate]  dev score: 0.89500, dev loss: 0.31402\r\n",
      "[Train] epoch: 3/5, step: 270/375, loss: 0.09629\r\n",
      "[Evaluate]  dev score: 0.87750, dev loss: 0.35032\r\n",
      "[Train] epoch: 3/5, step: 280/375, loss: 0.13000\r\n",
      "[Evaluate]  dev score: 0.87750, dev loss: 0.33323\r\n",
      "[Train] epoch: 3/5, step: 290/375, loss: 0.15747\r\n",
      "[Evaluate]  dev score: 0.89583, dev loss: 0.30006\r\n",
      "[Train] epoch: 4/5, step: 300/375, loss: 0.09023\r\n",
      "[Evaluate]  dev score: 0.89667, dev loss: 0.29782\r\n",
      "[Train] epoch: 4/5, step: 310/375, loss: 0.12441\r\n",
      "[Evaluate]  dev score: 0.86833, dev loss: 0.46344\r\n",
      "[Train] epoch: 4/5, step: 320/375, loss: 0.14399\r\n",
      "[Evaluate]  dev score: 0.90000, dev loss: 0.28961\r\n",
      "[Train] epoch: 4/5, step: 330/375, loss: 0.08193\r\n",
      "[Evaluate]  dev score: 0.89500, dev loss: 0.27973\r\n",
      "[Train] epoch: 4/5, step: 340/375, loss: 0.04046\r\n",
      "[Evaluate]  dev score: 0.90083, dev loss: 0.31862\r\n",
      "[Train] epoch: 4/5, step: 350/375, loss: 0.04279\r\n",
      "[Evaluate]  dev score: 0.89917, dev loss: 0.31417\r\n",
      "[Train] epoch: 4/5, step: 360/375, loss: 0.02666\r\n",
      "[Evaluate]  dev score: 0.89917, dev loss: 0.30697\r\n",
      "[Train] epoch: 4/5, step: 370/375, loss: 0.05771\r\n",
      "[Evaluate]  dev score: 0.89500, dev loss: 0.40786\r\n",
      "[Evaluate]  dev score: 0.89500, dev loss: 0.32688\r\n",
      "[Train] Training done!\r\n"
     ]
    }
   ],
   "source": [
    "from nndl import Accuracy, RunnerV3\r\n",
    "\r\n",
    "num_embeddings = len(vocab)\r\n",
    "input_size = 256\r\n",
    "hidden_size = 256\r\n",
    "model = Model_BiLSTM_FC(num_embeddings, input_size, hidden_size)\r\n",
    "optimizer = paddle.optimizer.Adam(learning_rate=0.001, beta1=0.9, beta2=0.999, parameters=model.parameters())\r\n",
    "loss_fn = nn.CrossEntropyLoss()\r\n",
    "metric = Accuracy()\r\n",
    "runner = RunnerV3(model, optimizer, loss_fn, metric)\r\n",
    "runner.train(train_loader, dev_loader, num_epochs=5, eval_steps=10, log_steps=10, save_path=\"./checkpoints/best.pdparams\")"
   ]
  },
  {
   "cell_type": "code",
   "execution_count": 25,
   "metadata": {
    "execution": {
     "iopub.execute_input": "2024-06-19T18:53:07.908477Z",
     "iopub.status.busy": "2024-06-19T18:53:07.907787Z",
     "iopub.status.idle": "2024-06-19T18:53:08.720230Z",
     "shell.execute_reply": "2024-06-19T18:53:08.719485Z",
     "shell.execute_reply.started": "2024-06-19T18:53:07.908445Z"
    },
    "scrolled": true
   },
   "outputs": [
    {
     "data": {
      "image/png": "[encoded data removed]",
      "text/plain": [
       "<Figure size 1600x600 with 2 Axes>"
      ]
     },
     "metadata": {},
     "output_type": "display_data"
    }
   ],
   "source": [
    "from nndl import plot_training_loss_acc\r\n",
    "\r\n",
    "plot_training_loss_acc(runner=runner, fig_name=\"training_loss_acc.pdf\")"
   ]
  },
  {
   "cell_type": "code",
   "execution_count": 37,
   "metadata": {
    "execution": {
     "iopub.execute_input": "2024-06-19T19:08:09.196261Z",
     "iopub.status.busy": "2024-06-19T19:08:09.195578Z",
     "iopub.status.idle": "2024-06-19T19:08:09.208078Z",
     "shell.execute_reply": "2024-06-19T19:08:09.207441Z",
     "shell.execute_reply.started": "2024-06-19T19:08:09.196229Z"
    },
    "scrolled": true
   },
   "outputs": [
    {
     "name": "stdout",
     "output_type": "stream",
     "text": [
      "评论： 有了第一本书的铺垫，读第二本的时候开始进入状态。基本上第二本就围绕主角们的能力训练展开，故事的主要发生场地设置在美洲的亚马逊丛林。心里一直疑惑这和西藏有什么关系，不过大概看完全书才能知道内里的线索。其中描述了很多热带雨林中特有的神秘动植物以及一些生存技巧和常识，受益匪浅。能够想像出要写这样一部书，融合这样许多的知识，作者需要花费多少心血来搜集和整理并成文。\r\n",
      "\r\n",
      "判定： 好评\r\n"
     ]
    }
   ],
   "source": [
    "id2label = {0:\"差评\", 1:\"好评\"}\r\n",
    "text = test_data[5][0]\r\n",
    "print(\"评论：\",text)\r\n",
    "segment_text=tokenizer.cut(text)\r\n",
    "tokens = [get_idx_from_word(word,vocab.token_to_idx,vocab.unk_token) for word in segment_text]\r\n",
    "tokens = tokens[:max_seq_len]\r\n",
    "sequence_length = paddle.to_tensor([len(tokens)], dtype=\"int64\")\r\n",
    "tokens = paddle.to_tensor(tokens, dtype=\"int64\").unsqueeze(0)\r\n",
    "logits = runner.predict((tokens, sequence_length))\r\n",
    "max_label_id = paddle.argmax(logits, axis=-1).numpy()[0]\r\n",
    "pred_label = id2label[max_label_id]\r\n",
    "print(\"\\n判定：\",pred_label)"
   ]
  },
  {
   "cell_type": "code",
   "execution_count": null,
   "metadata": {
    "scrolled": true
   },
   "outputs": [],
   "source": []
  }
 ],
 "metadata": {
  "kernelspec": {
   "display_name": "Python 3",
   "language": "python",
   "name": "py35-paddle1.2.0"
  },
  "language_info": {
   "codemirror_mode": {
    "name": "ipython",
    "version": 3
   },
   "file_extension": ".py",
   "mimetype": "text/x-python",
   "name": "python",
   "nbconvert_exporter": "python",
   "pygments_lexer": "ipython3",
   "version": "3.10.10"
  }
 },
 "nbformat": 4,
 "nbformat_minor": 4
}
