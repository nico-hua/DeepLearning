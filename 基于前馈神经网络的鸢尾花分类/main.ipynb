{
 "cells": [
  {
   "cell_type": "code",
   "execution_count": 20,
   "metadata": {
    "execution": {
     "iopub.execute_input": "2024-06-10T12:40:43.859313Z",
     "iopub.status.busy": "2024-06-10T12:40:43.858724Z",
     "iopub.status.idle": "2024-06-10T12:40:43.865593Z",
     "shell.execute_reply": "2024-06-10T12:40:43.864710Z",
     "shell.execute_reply.started": "2024-06-10T12:40:43.859277Z"
    },
    "scrolled": true
   },
   "outputs": [],
   "source": [
    "from sklearn.datasets import load_iris\r\n",
    "import paddle \r\n",
    "import numpy as np\r\n",
    "\r\n",
    "def load_data(shuffle=True):\r\n",
    "    X = np.array(load_iris().data, dtype=np.float32)\r\n",
    "    y = np.array(load_iris().target, dtype=np.float32)\r\n",
    "\r\n",
    "    X = paddle.to_tensor(X)\r\n",
    "    y = paddle.to_tensor(y)\r\n",
    "\r\n",
    "    X_min = paddle.min(X, axis=0)\r\n",
    "    X_max = paddle.max(X, axis=0)\r\n",
    "    X = (X-X_min) / (X_max-X_min)\r\n",
    "\r\n",
    "    if shuffle:\r\n",
    "        idx = paddle.randperm(X.shape[0])\r\n",
    "        X = X[idx]\r\n",
    "        y = y[idx]\r\n",
    "    return X, y"
   ]
  },
  {
   "cell_type": "code",
   "execution_count": 21,
   "metadata": {
    "execution": {
     "iopub.execute_input": "2024-06-10T12:40:43.867330Z",
     "iopub.status.busy": "2024-06-10T12:40:43.866979Z",
     "iopub.status.idle": "2024-06-10T12:40:43.873590Z",
     "shell.execute_reply": "2024-06-10T12:40:43.872889Z",
     "shell.execute_reply.started": "2024-06-10T12:40:43.867305Z"
    },
    "scrolled": true
   },
   "outputs": [],
   "source": [
    "class IrisDataset(paddle.io.Dataset):\r\n",
    "    def __init__(self, mode=\"train\", num_train=120, num_dev=15):\r\n",
    "        super(IrisDataset, self).__init__()\r\n",
    "        X, y =load_data(shuffle=True)\r\n",
    "        y = paddle.cast(y, dtype='int32')\r\n",
    "        if mode == \"train\":\r\n",
    "            self.X, self.y = X[:num_train], y[:num_train]\r\n",
    "        elif mode == \"dev\":\r\n",
    "            self.X, self.y = X[num_train:num_train+num_dev], y[num_train:num_train+num_dev]\r\n",
    "        else:\r\n",
    "            self.X, self.y = X[num_train+num_dev:], y[num_train+num_dev:]\r\n",
    "\r\n",
    "    def __getitem__(self,idx):\r\n",
    "        return self.X[idx], self.y[idx]\r\n",
    "\r\n",
    "    def __len__(self):\r\n",
    "        return len(self.y)"
   ]
  },
  {
   "cell_type": "code",
   "execution_count": 22,
   "metadata": {
    "execution": {
     "iopub.execute_input": "2024-06-10T12:40:43.875030Z",
     "iopub.status.busy": "2024-06-10T12:40:43.874570Z",
     "iopub.status.idle": "2024-06-10T12:40:43.909341Z",
     "shell.execute_reply": "2024-06-10T12:40:43.887628Z",
     "shell.execute_reply.started": "2024-06-10T12:40:43.875007Z"
    },
    "scrolled": true
   },
   "outputs": [],
   "source": [
    "paddle.seed(12)\r\n",
    "train_dataset = IrisDataset(mode=\"train\")\r\n",
    "dev_dataset = IrisDataset(mode=\"dev\")\r\n",
    "test_dataset = IrisDataset(mode=\"test\")"
   ]
  },
  {
   "cell_type": "code",
   "execution_count": 23,
   "metadata": {
    "execution": {
     "iopub.execute_input": "2024-06-10T12:40:43.911732Z",
     "iopub.status.busy": "2024-06-10T12:40:43.911311Z",
     "iopub.status.idle": "2024-06-10T12:40:43.916617Z",
     "shell.execute_reply": "2024-06-10T12:40:43.915811Z",
     "shell.execute_reply.started": "2024-06-10T12:40:43.911702Z"
    },
    "scrolled": true
   },
   "outputs": [
    {
     "name": "stdout",
     "output_type": "stream",
     "text": [
      "length of train set: 120\r\n",
      "length of dev set: 15\r\n",
      "length of test set: 120\r\n"
     ]
    }
   ],
   "source": [
    "print(\"length of train set:\", len(train_dataset))\r\n",
    "print(\"length of dev set:\", len(dev_dataset))\r\n",
    "print(\"length of test set:\", len(train_dataset))"
   ]
  },
  {
   "cell_type": "code",
   "execution_count": 24,
   "metadata": {
    "execution": {
     "iopub.execute_input": "2024-06-10T12:40:43.918536Z",
     "iopub.status.busy": "2024-06-10T12:40:43.917881Z",
     "iopub.status.idle": "2024-06-10T12:40:43.923990Z",
     "shell.execute_reply": "2024-06-10T12:40:43.923232Z",
     "shell.execute_reply.started": "2024-06-10T12:40:43.918501Z"
    },
    "scrolled": true
   },
   "outputs": [],
   "source": [
    "batch_size = 16 \r\n",
    "\r\n",
    "train_loader = paddle.io.DataLoader(train_dataset, batch_size=batch_size, shuffle=True)\r\n",
    "dev_loader = paddle.io.DataLoader(dev_dataset, batch_size=batch_size)\r\n",
    "test_loader = paddle.io.DataLoader(test_dataset, batch_size=batch_size)"
   ]
  },
  {
   "cell_type": "code",
   "execution_count": 25,
   "metadata": {
    "execution": {
     "iopub.execute_input": "2024-06-10T12:40:43.925735Z",
     "iopub.status.busy": "2024-06-10T12:40:43.925317Z",
     "iopub.status.idle": "2024-06-10T12:40:44.013454Z",
     "shell.execute_reply": "2024-06-10T12:40:44.012270Z",
     "shell.execute_reply.started": "2024-06-10T12:40:43.925700Z"
    },
    "scrolled": true
   },
   "outputs": [],
   "source": [
    "import paddle.nn as nn \r\n",
    "import paddle.nn.functional as F \r\n",
    "from paddle.nn.initializer import Constant, Normal, Uniform \r\n",
    "\r\n",
    "class Model_MLP_L2_V3(nn.Layer):\r\n",
    "    def __init__(self, input_size, hidden_size, output_size):\r\n",
    "        super(Model_MLP_L2_V3, self).__init__()\r\n",
    "        self.fc1 = nn.Linear(input_size, hidden_size, weight_attr=paddle.ParamAttr(initializer=Normal(mean=0., std=0.01)),\r\n",
    "        bias_attr=paddle.ParamAttr(initializer=Constant(value=1.0)))\r\n",
    "        self.fc2= nn.Linear(hidden_size, output_size, weight_attr=paddle.ParamAttr(initializer=Normal(mean=0., std=0.01)),\r\n",
    "        bias_attr=paddle.ParamAttr(initializer=Constant(value=1.0)))\r\n",
    "        self.act_fn = F.sigmoid\r\n",
    "\r\n",
    "    def forward(self, inputs):\r\n",
    "        outputs = self.fc1(inputs)\r\n",
    "        outputs = self.act_fn(outputs)\r\n",
    "        outputs = self.fc2(outputs)\r\n",
    "        return outputs\r\n",
    "\r\n",
    "fnn_model = Model_MLP_L2_V3(input_size=4, output_size=3, hidden_size=6)"
   ]
  },
  {
   "cell_type": "code",
   "execution_count": 45,
   "metadata": {
    "execution": {
     "iopub.execute_input": "2024-06-10T12:47:08.174592Z",
     "iopub.status.busy": "2024-06-10T12:47:08.174001Z",
     "iopub.status.idle": "2024-06-10T12:47:08.182779Z",
     "shell.execute_reply": "2024-06-10T12:47:08.181761Z",
     "shell.execute_reply.started": "2024-06-10T12:47:08.174553Z"
    },
    "scrolled": true
   },
   "outputs": [],
   "source": [
    "from paddle.metric import Metric \r\n",
    "\r\n",
    "class Accuracy(Metric):\r\n",
    "    def __init__(self, is_logist=True):\r\n",
    "        self.num_correct = 0\r\n",
    "        self.num_count = 0\r\n",
    "        self.is_logist = is_logist\r\n",
    "\r\n",
    "    def update(self, outputs, labels):\r\n",
    "        if outputs.shape[1] == 1:\r\n",
    "            outputs = paddle.squeeze(outputs, axis=-1)\r\n",
    "            if self.is_logist:\r\n",
    "                preds = paddle.cast((outputs>=0), dtype='int32')\r\n",
    "            else:\r\n",
    "                preds = paddle.cast((outputs>=0.5), dtype='int32')\r\n",
    "        else:\r\n",
    "            preds = paddle.argmax(outputs, axis=1, dtype='int32')\r\n",
    "        labels = paddle.squeeze(labels, axis=-1)\r\n",
    "        batch_correct = paddle.sum(paddle.cast(preds==labels, dtype='int32')).numpy().item()\r\n",
    "        batch_count = len(labels)\r\n",
    "        self.num_correct += batch_correct\r\n",
    "        self.num_count += batch_count\r\n",
    "\r\n",
    "    def accumulate(self):\r\n",
    "        if self.num_count == 0:\r\n",
    "            return 0\r\n",
    "        return self.num_correct/ self.num_count\r\n",
    "\r\n",
    "    def reset(self):\r\n",
    "        self.num_correct = 0\r\n",
    "        self.num_count = 0\r\n",
    "\r\n",
    "    def name(self):\r\n",
    "        return \"Accuracy\""
   ]
  },
  {
   "cell_type": "code",
   "execution_count": 27,
   "metadata": {
    "execution": {
     "iopub.execute_input": "2024-06-10T12:40:44.024768Z",
     "iopub.status.busy": "2024-06-10T12:40:44.024427Z",
     "iopub.status.idle": "2024-06-10T12:40:44.040435Z",
     "shell.execute_reply": "2024-06-10T12:40:44.039697Z",
     "shell.execute_reply.started": "2024-06-10T12:40:44.024716Z"
    },
    "scrolled": true
   },
   "outputs": [],
   "source": [
    "import paddle.nn.functional as F\r\n",
    "\r\n",
    "class RunnerV3(object):\r\n",
    "    def __init__(self, model, optimizer, loss_fn, metric, **kwargs):\r\n",
    "        self.model = model\r\n",
    "        self.optimizer = optimizer\r\n",
    "        self.loss_fn = loss_fn\r\n",
    "        self.metric = metric # 只用于计算评价指标\r\n",
    "\r\n",
    "        # 记录训练过程中的评价指标变化情况\r\n",
    "        self.dev_scores = []\r\n",
    "\r\n",
    "        # 记录训练过程中的损失函数变化情况\r\n",
    "        self.train_epoch_losses = [] # 一个epoch记录一次loss\r\n",
    "        self.train_step_losses = []  # 一个step记录一次loss\r\n",
    "        self.dev_losses = []\r\n",
    "        \r\n",
    "        # 记录全局最优指标\r\n",
    "        self.best_score = 0\r\n",
    "\r\n",
    "    def train(self, train_loader, dev_loader=None, **kwargs):\r\n",
    "        # 将模型切换为训练模式\r\n",
    "        self.model.train()\r\n",
    "\r\n",
    "        # 传入训练轮数，如果没有传入值则默认为0\r\n",
    "        num_epochs = kwargs.get(\"num_epochs\", 0)\r\n",
    "        # 传入log打印频率，如果没有传入值则默认为100\r\n",
    "        log_steps = kwargs.get(\"log_steps\", 100)\r\n",
    "        # 评价频率\r\n",
    "        eval_steps = kwargs.get(\"eval_steps\", 0)\r\n",
    "\r\n",
    "        # 传入模型保存路径，如果没有传入值则默认为\"best_model.pdparams\"\r\n",
    "        save_path = kwargs.get(\"save_path\", \"best_model.pdparams\")\r\n",
    "\r\n",
    "        custom_print_log = kwargs.get(\"custom_print_log\", None) \r\n",
    "       \r\n",
    "        # 训练总的步数\r\n",
    "        num_training_steps = num_epochs * len(train_loader)\r\n",
    "\r\n",
    "        if eval_steps:\r\n",
    "            if self.metric is None:\r\n",
    "                raise RuntimeError('Error: Metric can not be None!')\r\n",
    "            if dev_loader is None:\r\n",
    "                raise RuntimeError('Error: dev_loader can not be None!')\r\n",
    "            \r\n",
    "        # 运行的step数目\r\n",
    "        global_step = 0\r\n",
    "\r\n",
    "        # 进行num_epochs轮训练\r\n",
    "        for epoch in range(num_epochs):\r\n",
    "            # 用于统计训练集的损失\r\n",
    "            total_loss = 0\r\n",
    "            for step, data in enumerate(train_loader):\r\n",
    "                X, y = data\r\n",
    "                # 获取模型预测\r\n",
    "                logits = self.model(X)\r\n",
    "                loss = self.loss_fn(logits, y) # 默认求mean\r\n",
    "                total_loss += loss \r\n",
    "\r\n",
    "                # 训练过程中，每个step的loss进行保存\r\n",
    "                self.train_step_losses.append((global_step,loss.item()))\r\n",
    "\r\n",
    "                if log_steps and global_step%log_steps==0:\r\n",
    "                    print(f\"[Train] epoch: {epoch}/{num_epochs}, step: {global_step}/{num_training_steps}, loss: {loss.item():.5f}\")\r\n",
    "                \r\n",
    "                # 梯度反向传播，计算每个参数的梯度值\r\n",
    "                loss.backward() \r\n",
    "\r\n",
    "                if custom_print_log:\r\n",
    "                   custom_print_log(self)\r\n",
    "                \r\n",
    "                # 小批量梯度下降进行参数更新\r\n",
    "                self.optimizer.step()\r\n",
    "                # 梯度归零\r\n",
    "                self.optimizer.clear_grad()\r\n",
    "\r\n",
    "                # 判断是否需要评价\r\n",
    "                if eval_steps>0 and global_step>0 and \\\r\n",
    "                    (global_step%eval_steps == 0 or global_step==(num_training_steps-1)):\r\n",
    "\r\n",
    "                    dev_score, dev_loss = self.evaluate(dev_loader, global_step=global_step)\r\n",
    "                    print(f\"[Evaluate]  dev score: {dev_score:.5f}, dev loss: {dev_loss:.5f}\") \r\n",
    "\r\n",
    "                    # 将模型切换为训练模式\r\n",
    "                    self.model.train()\r\n",
    "\r\n",
    "                    # 如果当前指标为最优指标，保存该模型\r\n",
    "                    if dev_score > self.best_score:\r\n",
    "                        self.save_model(save_path)\r\n",
    "                        print(f\"[Evaluate] best accuracy performence has been updated: {self.best_score:.5f} --> {dev_score:.5f}\")\r\n",
    "                        self.best_score = dev_score\r\n",
    "\r\n",
    "                global_step += 1\r\n",
    "            \r\n",
    "            # 当前epoch 训练loss累计值 \r\n",
    "            trn_loss = (total_loss / len(train_loader)).item()\r\n",
    "            # epoch粒度的训练loss保存\r\n",
    "            self.train_epoch_losses.append(trn_loss)\r\n",
    "            \r\n",
    "        print(\"[Train] Training done!\")\r\n",
    "\r\n",
    "    # 模型评估阶段，使用'paddle.no_grad()'控制不计算和存储梯度\r\n",
    "    @paddle.no_grad()\r\n",
    "    def evaluate(self, dev_loader, **kwargs):\r\n",
    "        assert self.metric is not None\r\n",
    "\r\n",
    "        # 将模型设置为评估模式\r\n",
    "        self.model.eval()\r\n",
    "\r\n",
    "        global_step = kwargs.get(\"global_step\", -1) \r\n",
    "\r\n",
    "        # 用于统计训练集的损失\r\n",
    "        total_loss = 0\r\n",
    "\r\n",
    "        # 重置评价\r\n",
    "        self.metric.reset() \r\n",
    "        \r\n",
    "        # 遍历验证集每个批次    \r\n",
    "        for batch_id, data in enumerate(dev_loader):\r\n",
    "            X, y = data\r\n",
    "    \r\n",
    "            # 计算模型输出\r\n",
    "            logits = self.model(X)\r\n",
    "            \r\n",
    "            # 计算损失函数\r\n",
    "            loss = self.loss_fn(logits, y).item()\r\n",
    "            # 累积损失\r\n",
    "            total_loss += loss \r\n",
    "\r\n",
    "            # 累积评价\r\n",
    "            self.metric.update(logits, y)\r\n",
    "\r\n",
    "        dev_loss = (total_loss/len(dev_loader))\r\n",
    "        dev_score = self.metric.accumulate() \r\n",
    "\r\n",
    "        # 记录验证集loss\r\n",
    "        if global_step!=-1:\r\n",
    "            self.dev_losses.append((global_step, dev_loss))\r\n",
    "            self.dev_scores.append(dev_score)\r\n",
    "        \r\n",
    "        return dev_score, dev_loss\r\n",
    "    \r\n",
    "    # 模型评估阶段，使用'paddle.no_grad()'控制不计算和存储梯度\r\n",
    "    @paddle.no_grad()\r\n",
    "    def predict(self, x, **kwargs):\r\n",
    "        # 将模型设置为评估模式\r\n",
    "        self.model.eval()\r\n",
    "        # 运行模型前向计算，得到预测值\r\n",
    "        logits = self.model(x)\r\n",
    "        return logits\r\n",
    "\r\n",
    "    def save_model(self, save_path):\r\n",
    "        paddle.save(self.model.state_dict(), save_path)\r\n",
    "\r\n",
    "    def load_model(self, model_path):\r\n",
    "        model_state_dict = paddle.load(model_path)\r\n",
    "        self.model.set_state_dict(model_state_dict)"
   ]
  },
  {
   "cell_type": "code",
   "execution_count": 46,
   "metadata": {
    "execution": {
     "iopub.execute_input": "2024-06-10T12:47:12.914129Z",
     "iopub.status.busy": "2024-06-10T12:47:12.913542Z",
     "iopub.status.idle": "2024-06-10T12:47:12.919224Z",
     "shell.execute_reply": "2024-06-10T12:47:12.918447Z",
     "shell.execute_reply.started": "2024-06-10T12:47:12.914093Z"
    },
    "scrolled": true
   },
   "outputs": [],
   "source": [
    "import paddle.optimizer as opt \r\n",
    "\r\n",
    "model = fnn_model \r\n",
    "optimizer = opt.SGD(learning_rate=0.2, parameters=model.parameters())\r\n",
    "loss_fn = F.cross_entropy\r\n",
    "metric = Accuracy(is_logist=True)\r\n",
    "runner = RunnerV3(model, optimizer, loss_fn, metric)"
   ]
  },
  {
   "cell_type": "code",
   "execution_count": 47,
   "metadata": {
    "execution": {
     "iopub.execute_input": "2024-06-10T12:47:14.828279Z",
     "iopub.status.busy": "2024-06-10T12:47:14.827161Z",
     "iopub.status.idle": "2024-06-10T12:47:20.075358Z",
     "shell.execute_reply": "2024-06-10T12:47:20.074541Z",
     "shell.execute_reply.started": "2024-06-10T12:47:14.828226Z"
    },
    "scrolled": true
   },
   "outputs": [
    {
     "name": "stdout",
     "output_type": "stream",
     "text": [
      "[Train] epoch: 0/150, step: 0/1200, loss: 1.05428\r\n",
      "[Evaluate]  dev score: 0.40000, dev loss: 1.02602\r\n",
      "[Evaluate] best accuracy performence has been updated: 0.00000 --> 0.40000\r\n",
      "[Train] epoch: 12/150, step: 100/1200, loss: 0.92708\r\n",
      "[Evaluate]  dev score: 0.73333, dev loss: 0.91046\r\n",
      "[Evaluate] best accuracy performence has been updated: 0.40000 --> 0.73333\r\n",
      "[Evaluate]  dev score: 0.86667, dev loss: 0.75469\r\n",
      "[Evaluate] best accuracy performence has been updated: 0.73333 --> 0.86667\r\n",
      "[Train] epoch: 25/150, step: 200/1200, loss: 0.69224\r\n",
      "[Evaluate]  dev score: 0.93333, dev loss: 0.62163\r\n",
      "[Evaluate] best accuracy performence has been updated: 0.86667 --> 0.93333\r\n",
      "[Evaluate]  dev score: 0.66667, dev loss: 0.57165\r\n",
      "[Train] epoch: 37/150, step: 300/1200, loss: 0.55916\r\n",
      "[Evaluate]  dev score: 0.93333, dev loss: 0.48467\r\n",
      "[Evaluate]  dev score: 0.93333, dev loss: 0.44786\r\n",
      "[Train] epoch: 50/150, step: 400/1200, loss: 0.53597\r\n",
      "[Evaluate]  dev score: 0.86667, dev loss: 0.41609\r\n",
      "[Evaluate]  dev score: 1.00000, dev loss: 0.39986\r\n",
      "[Evaluate] best accuracy performence has been updated: 0.93333 --> 1.00000\r\n",
      "[Train] epoch: 62/150, step: 500/1200, loss: 0.24970\r\n",
      "[Evaluate]  dev score: 1.00000, dev loss: 0.38473\r\n",
      "[Evaluate]  dev score: 0.93333, dev loss: 0.35977\r\n",
      "[Train] epoch: 75/150, step: 600/1200, loss: 0.35835\r\n",
      "[Evaluate]  dev score: 0.93333, dev loss: 0.34233\r\n",
      "[Evaluate]  dev score: 0.93333, dev loss: 0.32704\r\n",
      "[Train] epoch: 87/150, step: 700/1200, loss: 0.34288\r\n",
      "[Evaluate]  dev score: 0.93333, dev loss: 0.31086\r\n",
      "[Evaluate]  dev score: 1.00000, dev loss: 0.29740\r\n",
      "[Train] epoch: 100/150, step: 800/1200, loss: 0.27517\r\n",
      "[Evaluate]  dev score: 1.00000, dev loss: 0.28239\r\n",
      "[Evaluate]  dev score: 0.93333, dev loss: 0.26767\r\n",
      "[Train] epoch: 112/150, step: 900/1200, loss: 0.26158\r\n",
      "[Evaluate]  dev score: 1.00000, dev loss: 0.26061\r\n",
      "[Evaluate]  dev score: 0.93333, dev loss: 0.24191\r\n",
      "[Train] epoch: 125/150, step: 1000/1200, loss: 0.27636\r\n",
      "[Evaluate]  dev score: 0.93333, dev loss: 0.23189\r\n",
      "[Evaluate]  dev score: 0.93333, dev loss: 0.22213\r\n",
      "[Train] epoch: 137/150, step: 1100/1200, loss: 0.27354\r\n",
      "[Evaluate]  dev score: 0.93333, dev loss: 0.21127\r\n",
      "[Evaluate]  dev score: 0.93333, dev loss: 0.20364\r\n",
      "[Evaluate]  dev score: 0.93333, dev loss: 0.20030\r\n",
      "[Train] Training done!\r\n"
     ]
    }
   ],
   "source": [
    "# 启动训练\r\n",
    "log_steps = 100\r\n",
    "eval_steps = 50\r\n",
    "runner.train(train_loader, dev_loader, \r\n",
    "            num_epochs=150, log_steps=log_steps, eval_steps = eval_steps,\r\n",
    "            save_path=\"best_model.pdparams\") "
   ]
  },
  {
   "cell_type": "code",
   "execution_count": 48,
   "metadata": {
    "execution": {
     "iopub.execute_input": "2024-06-10T12:48:00.011682Z",
     "iopub.status.busy": "2024-06-10T12:48:00.011028Z",
     "iopub.status.idle": "2024-06-10T12:48:01.843196Z",
     "shell.execute_reply": "2024-06-10T12:48:01.842326Z",
     "shell.execute_reply.started": "2024-06-10T12:48:00.011636Z"
    },
    "scrolled": true
   },
   "outputs": [
    {
     "data": {
      "image/png": "[encoded data removed]",
      "text/plain": [
       "<Figure size 1600x600 with 2 Axes>"
      ]
     },
     "metadata": {},
     "output_type": "display_data"
    }
   ],
   "source": [
    "import matplotlib.pyplot as plt\r\n",
    "\r\n",
    "# 绘制训练集和验证集的损失变化以及验证集上的准确率变化曲线\r\n",
    "def plot_training_loss_acc(runner, fig_name, \r\n",
    "    fig_size=(16, 6), \r\n",
    "    sample_step=20, \r\n",
    "    loss_legend_loc=\"upper right\", \r\n",
    "    acc_legend_loc=\"lower right\",\r\n",
    "    train_color=\"#e4007f\",\r\n",
    "    dev_color='#f19ec2',\r\n",
    "    fontsize='large',\r\n",
    "    train_linestyle=\"-\",\r\n",
    "    dev_linestyle='--'):\r\n",
    "\r\n",
    "    plt.figure(figsize=fig_size)\r\n",
    "\r\n",
    "    plt.subplot(1,2,1)\r\n",
    "    train_items = runner.train_step_losses[::sample_step]\r\n",
    "    train_steps=[x[0] for x in train_items]\r\n",
    "    train_losses = [x[1] for x in train_items]\r\n",
    "\r\n",
    "    plt.plot(train_steps, train_losses, color=train_color, linestyle=train_linestyle, label=\"Train loss\")\r\n",
    "    if len(runner.dev_losses)>0:\r\n",
    "        dev_steps=[x[0] for x in runner.dev_losses]\r\n",
    "        dev_losses = [x[1] for x in runner.dev_losses]\r\n",
    "        plt.plot(dev_steps, dev_losses, color=dev_color, linestyle=dev_linestyle, label=\"Dev loss\")\r\n",
    "    # 绘制坐标轴和图例\r\n",
    "    plt.ylabel(\"loss\", fontsize=fontsize)\r\n",
    "    plt.xlabel(\"step\", fontsize=fontsize)\r\n",
    "    plt.legend(loc=loss_legend_loc, fontsize='x-large')\r\n",
    "\r\n",
    "    # 绘制评价准确率变化曲线\r\n",
    "    if len(runner.dev_scores)>0:\r\n",
    "        plt.subplot(1,2,2)\r\n",
    "        plt.plot(dev_steps, runner.dev_scores,\r\n",
    "            color=dev_color, linestyle=dev_linestyle, label=\"Dev accuracy\")\r\n",
    "    \r\n",
    "        # 绘制坐标轴和图例\r\n",
    "        plt.ylabel(\"score\", fontsize=fontsize)\r\n",
    "        plt.xlabel(\"step\", fontsize=fontsize)\r\n",
    "        plt.legend(loc=acc_legend_loc, fontsize='x-large')\r\n",
    "\r\n",
    "    plt.savefig(fig_name)\r\n",
    "    plt.show()\r\n",
    "\r\n",
    "plot_training_loss_acc(runner, 'fw-loss.pdf')"
   ]
  },
  {
   "cell_type": "code",
   "execution_count": 49,
   "metadata": {
    "execution": {
     "iopub.execute_input": "2024-06-10T12:49:59.912112Z",
     "iopub.status.busy": "2024-06-10T12:49:59.911475Z",
     "iopub.status.idle": "2024-06-10T12:49:59.963063Z",
     "shell.execute_reply": "2024-06-10T12:49:59.962248Z",
     "shell.execute_reply.started": "2024-06-10T12:49:59.912074Z"
    },
    "scrolled": true
   },
   "outputs": [
    {
     "name": "stdout",
     "output_type": "stream",
     "text": [
      "[Test] accuracy/loss: 0.9333/0.4830\r\n"
     ]
    }
   ],
   "source": [
    "# 加载最优模型\r\n",
    "runner.load_model('best_model.pdparams')\r\n",
    "# 模型评价\r\n",
    "score, loss = runner.evaluate(test_loader)\r\n",
    "print(\"[Test] accuracy/loss: {:.4f}/{:.4f}\".format(score, loss))"
   ]
  },
  {
   "cell_type": "code",
   "execution_count": 52,
   "metadata": {
    "execution": {
     "iopub.execute_input": "2024-06-10T12:55:42.763219Z",
     "iopub.status.busy": "2024-06-10T12:55:42.762603Z",
     "iopub.status.idle": "2024-06-10T12:55:42.773167Z",
     "shell.execute_reply": "2024-06-10T12:55:42.772295Z",
     "shell.execute_reply.started": "2024-06-10T12:55:42.763180Z"
    },
    "scrolled": true
   },
   "outputs": [
    {
     "name": "stdout",
     "output_type": "stream",
     "text": [
      "The true category is 0 and the predicted category is 0\r\n"
     ]
    }
   ],
   "source": [
    "# 获取测试集中第一条数据\r\n",
    "X, label = next(test_loader())\r\n",
    "logits = runner.predict(X)\r\n",
    "\r\n",
    "pred_class = paddle.argmax(logits[0]).numpy()\r\n",
    "label = label[0].numpy()\r\n",
    "\r\n",
    "# 输出真实类别与预测类别\r\n",
    "print(\"The true category is {} and the predicted category is {}\".format(label, pred_class))"
   ]
  },
  {
   "cell_type": "code",
   "execution_count": null,
   "metadata": {
    "scrolled": true
   },
   "outputs": [],
   "source": []
  }
 ],
 "metadata": {
  "kernelspec": {
   "display_name": "Python 3",
   "language": "python",
   "name": "py35-paddle1.2.0"
  },
  "language_info": {
   "codemirror_mode": {
    "name": "ipython",
    "version": 3
   },
   "file_extension": ".py",
   "mimetype": "text/x-python",
   "name": "python",
   "nbconvert_exporter": "python",
   "pygments_lexer": "ipython3",
   "version": "3.10.10"
  }
 },
 "nbformat": 4,
 "nbformat_minor": 4
}
