{
 "cells": [
  {
   "cell_type": "code",
   "execution_count": 1,
   "metadata": {
    "execution": {
     "iopub.execute_input": "2024-06-15T04:37:29.347324Z",
     "iopub.status.busy": "2024-06-15T04:37:29.346714Z",
     "iopub.status.idle": "2024-06-15T04:37:31.135611Z",
     "shell.execute_reply": "2024-06-15T04:37:31.134588Z",
     "shell.execute_reply.started": "2024-06-15T04:37:29.347285Z"
    },
    "scrolled": true
   },
   "outputs": [],
   "source": [
    "import paddle\r\n",
    "import paddle.nn as nn"
   ]
  },
  {
   "cell_type": "code",
   "execution_count": 20,
   "metadata": {
    "execution": {
     "iopub.execute_input": "2024-06-15T05:53:31.730881Z",
     "iopub.status.busy": "2024-06-15T05:53:31.730264Z",
     "iopub.status.idle": "2024-06-15T05:53:31.744554Z",
     "shell.execute_reply": "2024-06-15T05:53:31.743447Z",
     "shell.execute_reply.started": "2024-06-15T05:53:31.730843Z"
    },
    "scrolled": true
   },
   "outputs": [],
   "source": [
    "class Conv2D(nn.Layer):\r\n",
    "    def __init__(self, in_channels, out_channels, kernel_size, stride=1, padding=0,\r\n",
    "    weight_attr=paddle.ParamAttr(initializer=nn.initializer.Constant(value=1.0)),\r\n",
    "    bias_attr=paddle.ParamAttr(initializer=nn.initializer.Constant(value=0.0))):\r\n",
    "        super(Conv2D, self).__init__()\r\n",
    "        self.weight = paddle.create_parameter(shape=[out_channels, in_channels, kernel_size, kernel_size], dtype='float32', attr=weight_attr)\r\n",
    "        self.bias = paddle.create_parameter(shape=[out_channels, 1], dtype='float32', attr=bias_attr)\r\n",
    "        self.stride = stride\r\n",
    "        self.padding = padding\r\n",
    "        self.in_channels = in_channels\r\n",
    "        self.out_channels = out_channels\r\n",
    "\r\n",
    "    def single_forward(self, X, weight):\r\n",
    "        new_X = paddle.zeros([X.shape[0], X.shape[1]+2*self.padding, X.shape[2]+2*self.padding])\r\n",
    "        new_X[:, self.padding:X.shape[1]+self.padding, self.padding:X.shape[2]+self.padding] = X \r\n",
    "        u, v = weight.shape \r\n",
    "        output_w = (new_X.shape[1] - u) // self.stride + 1\r\n",
    "        output_h = (new_X.shape[2] - v) // self.stride + 1\r\n",
    "        output = paddle.zeros([X.shape[0], output_w, output_h])\r\n",
    "        for i in range(0, output.shape[1]):\r\n",
    "            for j in range(0, output.shape[2]):\r\n",
    "                output[:, i, j] = paddle.sum(new_X[:, self.stride*i:self.stride*i+u, self.stride*j:self.stride*j+v]*weight, axis=[1,2])\r\n",
    "        return output \r\n",
    "\r\n",
    "    def multi2single_forward(self, inputs, weight, b):\r\n",
    "        return paddle.sum(paddle.stack([self.single_forward(inputs[:, i, :, :], weight[i]) for i in range(self.in_channels)], axis=1), axis=1) + b\r\n",
    "\r\n",
    "    def multi2multi_forward(self, inputs, weight, bias):\r\n",
    "        return paddle.stack([self.multi2single_forward(inputs, w, b) for w, b in zip(weight, bias)], axis=1)\r\n",
    "\r\n",
    "    def forward(self, inputs):\r\n",
    "        return self.multi2multi_forward(inputs, self.weight, self.bias)"
   ]
  },
  {
   "cell_type": "code",
   "execution_count": 3,
   "metadata": {
    "execution": {
     "iopub.execute_input": "2024-06-15T05:08:58.474614Z",
     "iopub.status.busy": "2024-06-15T05:08:58.474018Z",
     "iopub.status.idle": "2024-06-15T05:08:58.482713Z",
     "shell.execute_reply": "2024-06-15T05:08:58.481773Z",
     "shell.execute_reply.started": "2024-06-15T05:08:58.474575Z"
    },
    "scrolled": true
   },
   "outputs": [],
   "source": [
    "class Pool2D(nn.Layer):\r\n",
    "    def __init__(self, size=(2,2), mode='max', stride=1):\r\n",
    "        super(Pool2D, self).__init__()\r\n",
    "        self.mode = mode \r\n",
    "        self.h, self.w = size \r\n",
    "        self.stride = stride \r\n",
    "\r\n",
    "    def forward(self, x):\r\n",
    "        output_w = (x.shape[2] - self.w) // self.stride + 1\r\n",
    "        output_h = (x.shape[3] - self.h) // self.stride + 1\r\n",
    "        output = paddle.zeros([x.shape[0], x.shape[1], output_w, output_h])\r\n",
    "        for i in range(output.shape[2]):\r\n",
    "            for j in range(output.shape[3]):\r\n",
    "                if self.mode == 'max':\r\n",
    "                    output[:, :, i, j] = paddle.max(x[:, :, self.stride*i:self.stride*i+self.w, self.stride*j:self.stride*j+self.h], axis=[2,3])\r\n",
    "                elif self.mode == 'avg':\r\n",
    "                    output[:, :, i, j] = paddle.mean(x[:, :, self.stride*i:self.stride*i+self.w, self.stride*j:self.stride*j+self.h], axis=[2,3])\r\n",
    "        return output"
   ]
  },
  {
   "cell_type": "code",
   "execution_count": 5,
   "metadata": {
    "execution": {
     "iopub.execute_input": "2024-06-15T05:24:11.680547Z",
     "iopub.status.busy": "2024-06-15T05:24:11.679956Z",
     "iopub.status.idle": "2024-06-15T05:24:23.538160Z",
     "shell.execute_reply": "2024-06-15T05:24:23.537193Z",
     "shell.execute_reply.started": "2024-06-15T05:24:11.680510Z"
    },
    "scrolled": true
   },
   "outputs": [
    {
     "name": "stdout",
     "output_type": "stream",
     "text": [
      "Length of train/dev/test set:1000/200/200\r\n"
     ]
    }
   ],
   "source": [
    "import json\r\n",
    "import gzip\r\n",
    "\r\n",
    "train_set, dev_set, test_set = json.load(gzip.open('mnist.json.gz'))\r\n",
    "train_images, train_labels = train_set[0][:1000], train_set[1][:1000]\r\n",
    "dev_images, dev_labels = dev_set[0][:200], dev_set[1][:200]\r\n",
    "test_images, test_labels = test_set[0][:200], test_set[0][:200]\r\n",
    "train_set, dev_set, test_set = [train_images, train_labels], [dev_images, dev_labels], [test_images, test_labels]\r\n",
    "print('Length of train/dev/test set:{}/{}/{}'.format(len(train_set[0]), len(dev_set[0]), len(test_set[0])))"
   ]
  },
  {
   "cell_type": "code",
   "execution_count": 8,
   "metadata": {
    "execution": {
     "iopub.execute_input": "2024-06-15T05:29:12.766434Z",
     "iopub.status.busy": "2024-06-15T05:29:12.765747Z",
     "iopub.status.idle": "2024-06-15T05:29:12.952575Z",
     "shell.execute_reply": "2024-06-15T05:29:12.951802Z",
     "shell.execute_reply.started": "2024-06-15T05:29:12.766396Z"
    },
    "scrolled": true
   },
   "outputs": [
    {
     "name": "stdout",
     "output_type": "stream",
     "text": [
      "The number in the picture is 5\r\n"
     ]
    },
    {
     "data": {
      "text/plain": [
       "<matplotlib.image.AxesImage at 0x7f964c40f790>"
      ]
     },
     "execution_count": 8,
     "metadata": {},
     "output_type": "execute_result"
    },
    {
     "data": {
      "image/png": "[encoded data removed]",
      "text/plain": [
       "<Figure size 500x500 with 1 Axes>"
      ]
     },
     "metadata": {},
     "output_type": "display_data"
    }
   ],
   "source": [
    "import numpy as np\r\n",
    "from PIL import Image\r\n",
    "import matplotlib.pyplot as plt\r\n",
    "\r\n",
    "image, label = train_set[0][0], train_set[1][0]\r\n",
    "image, label = np.array(image).astype('float32'), int(label)\r\n",
    "image = np.reshape(image, [28,28])\r\n",
    "image = Image.fromarray(image.astype('uint8'), mode='L')\r\n",
    "print(\"The number in the picture is {}\".format(label))\r\n",
    "plt.figure(figsize=(5, 5))\r\n",
    "plt.imshow(image)"
   ]
  },
  {
   "cell_type": "code",
   "execution_count": 9,
   "metadata": {
    "execution": {
     "iopub.execute_input": "2024-06-15T05:31:42.009836Z",
     "iopub.status.busy": "2024-06-15T05:31:42.008538Z",
     "iopub.status.idle": "2024-06-15T05:31:42.014118Z",
     "shell.execute_reply": "2024-06-15T05:31:42.013326Z",
     "shell.execute_reply.started": "2024-06-15T05:31:42.009795Z"
    },
    "scrolled": true
   },
   "outputs": [],
   "source": [
    "from paddle.vision.transforms import Compose, Resize, Normalize \r\n",
    "\r\n",
    "transforms = Compose([Resize(32), Normalize(mean=[127.5], std=[127.5], data_format='CHW')])"
   ]
  },
  {
   "cell_type": "code",
   "execution_count": 10,
   "metadata": {
    "execution": {
     "iopub.execute_input": "2024-06-15T05:36:57.019493Z",
     "iopub.status.busy": "2024-06-15T05:36:57.018705Z",
     "iopub.status.idle": "2024-06-15T05:36:57.029185Z",
     "shell.execute_reply": "2024-06-15T05:36:57.027735Z",
     "shell.execute_reply.started": "2024-06-15T05:36:57.019452Z"
    },
    "scrolled": true
   },
   "outputs": [],
   "source": [
    "import random\r\n",
    "import paddle.io as io \r\n",
    "\r\n",
    "class MNISTDataset(io.Dataset):\r\n",
    "    def __init__(self, dataset, transforms, mode='train'):\r\n",
    "        self.mode = mode\r\n",
    "        self.transforms = transforms \r\n",
    "        self.dataset = dataset\r\n",
    "        self.index_list = list(range(len(self.dataset[0])))\r\n",
    "\r\n",
    "    def __getitem__(self, idx):\r\n",
    "        idx = self.index_list[idx]\r\n",
    "        image, label = self.dataset[0][idx], self.dataset[1][idx]\r\n",
    "        image, label = np.array(image).astype('float32'), int(label)\r\n",
    "        image = np.reshape(image, [28,28])\r\n",
    "        image = Image.fromarray(image.astype('uint8'), mode='L')\r\n",
    "        image = self.transforms(image)\r\n",
    "        return image, label\r\n",
    "\r\n",
    "    def __len__(self):\r\n",
    "        return len(self.dataset[0])"
   ]
  },
  {
   "cell_type": "code",
   "execution_count": 12,
   "metadata": {
    "execution": {
     "iopub.execute_input": "2024-06-15T05:38:53.274680Z",
     "iopub.status.busy": "2024-06-15T05:38:53.274063Z",
     "iopub.status.idle": "2024-06-15T05:38:53.279908Z",
     "shell.execute_reply": "2024-06-15T05:38:53.279034Z",
     "shell.execute_reply.started": "2024-06-15T05:38:53.274641Z"
    },
    "scrolled": true
   },
   "outputs": [],
   "source": [
    "random.seed(0)\r\n",
    "\r\n",
    "train_dataset = MNISTDataset(dataset=train_set, transforms=transforms, mode='train')\r\n",
    "dev_dataset = MNISTDataset(dataset=dev_set, transforms=transforms, mode='dev')\r\n",
    "test_dataset = MNISTDataset(dataset=test_set, transforms=transforms, mode='test')"
   ]
  },
  {
   "cell_type": "code",
   "execution_count": 21,
   "metadata": {
    "execution": {
     "iopub.execute_input": "2024-06-15T05:53:36.425199Z",
     "iopub.status.busy": "2024-06-15T05:53:36.424595Z",
     "iopub.status.idle": "2024-06-15T05:53:36.436951Z",
     "shell.execute_reply": "2024-06-15T05:53:36.435344Z",
     "shell.execute_reply.started": "2024-06-15T05:53:36.425158Z"
    },
    "scrolled": true
   },
   "outputs": [],
   "source": [
    "import paddle.nn. functional as F\r\n",
    "\r\n",
    "class Model_LeNet(nn.Layer):\r\n",
    "    def __init__(self, in_channels, num_classes=10):\r\n",
    "        super(Model_LeNet, self).__init__()\r\n",
    "        # 卷积层：输出通道数为6，卷积核大小为5×5\r\n",
    "        self.conv1 = Conv2D(in_channels=in_channels, out_channels=6, kernel_size=5, weight_attr=paddle.ParamAttr())\r\n",
    "        # 汇聚层：汇聚窗口为2×2，步长为2\r\n",
    "        self.pool2 = Pool2D(size=(2,2), mode='max', stride=2)\r\n",
    "        # 卷积层：输入通道数为6，输出通道数为16，卷积核大小为5×5，步长为1\r\n",
    "        self.conv3 = Conv2D(in_channels=6, out_channels=16, kernel_size=5, stride=1, weight_attr=paddle.ParamAttr())\r\n",
    "        # 汇聚层：汇聚窗口为2×2，步长为2\r\n",
    "        self.pool4 = Pool2D(size=(2,2), mode='avg', stride=2)\r\n",
    "        # 卷积层：输入通道数为16，输出通道数为120，卷积核大小为5×5\r\n",
    "        self.conv5 = Conv2D(in_channels=16, out_channels=120, kernel_size=5, stride=1, weight_attr=paddle.ParamAttr())\r\n",
    "        # 全连接层：输入神经元为120，输出神经元为84\r\n",
    "        self.linear6 = nn.Linear(120, 84)\r\n",
    "        # 全连接层：输入神经元为84，输出神经元为类别数\r\n",
    "        self.linear7 = nn.Linear(84, num_classes)\r\n",
    "\r\n",
    "    def forward(self, x):\r\n",
    "        # C1：卷积层+激活函数\r\n",
    "        output = F.relu(self.conv1(x))\r\n",
    "        # S2：汇聚层\r\n",
    "        output = self.pool2(output)\r\n",
    "        # C3：卷积层+激活函数\r\n",
    "        output = F.relu(self.conv3(output))\r\n",
    "        # S4：汇聚层\r\n",
    "        output = self.pool4(output)\r\n",
    "        # C5：卷积层+激活函数\r\n",
    "        output = F.relu(self.conv5(output))\r\n",
    "        # 输入层将数据拉平[B,C,H,W] -> [B,CxHxW]\r\n",
    "        output = paddle.squeeze(output, axis=[2,3])\r\n",
    "        # F6：全连接层\r\n",
    "        output = F.relu(self.linear6(output))\r\n",
    "        # F7：全连接层\r\n",
    "        output = self.linear7(output)\r\n",
    "        return output"
   ]
  },
  {
   "cell_type": "code",
   "execution_count": 22,
   "metadata": {
    "execution": {
     "iopub.execute_input": "2024-06-15T05:53:39.347665Z",
     "iopub.status.busy": "2024-06-15T05:53:39.346654Z",
     "iopub.status.idle": "2024-06-15T05:53:46.383882Z",
     "shell.execute_reply": "2024-06-15T05:53:46.383100Z",
     "shell.execute_reply.started": "2024-06-15T05:53:39.347627Z"
    },
    "scrolled": true
   },
   "outputs": [
    {
     "name": "stdout",
     "output_type": "stream",
     "text": [
      "[Conv2D(), Pool2D(), Conv2D(), Pool2D(), Conv2D(), Linear(in_features=120, out_features=84, dtype=float32), Linear(in_features=84, out_features=10, dtype=float32)]\r\n",
      "conv2d_6 [1, 6, 28, 28] [6, 1, 5, 5] [6, 1]\r\n",
      "pool2d_4 [1, 6, 14, 14]\r\n",
      "conv2d_7 [1, 16, 10, 10] [16, 6, 5, 5] [16, 1]\r\n",
      "pool2d_5 [1, 16, 5, 5]\r\n",
      "conv2d_8 [1, 120, 1, 1] [120, 16, 5, 5] [120, 1]\r\n",
      "linear_4 [1, 84] [120, 84] [84]\r\n",
      "linear_5 [1, 10] [84, 10] [10]\r\n"
     ]
    }
   ],
   "source": [
    "# 这里用np.random创建一个随机数组作为输入数据\r\n",
    "inputs = np.random.randn(*[1,1,32,32])\r\n",
    "inputs = inputs.astype('float32')\r\n",
    "\r\n",
    "# 创建Model_LeNet类的实例，指定模型名称和分类的类别数目\r\n",
    "model = Model_LeNet(in_channels=1, num_classes=10)\r\n",
    "# 通过调用LeNet从基类继承的sublayers()函数，查看LeNet中所包含的子层\r\n",
    "print(model.sublayers())\r\n",
    "x = paddle.to_tensor(inputs)\r\n",
    "for item in model.sublayers():\r\n",
    "    # item是LeNet类中的一个子层\r\n",
    "    # 查看经过子层之后的输出数据形状\r\n",
    "    try:\r\n",
    "        x = item(x)\r\n",
    "    except:\r\n",
    "        # 如果是最后一个卷积层输出，需要展平后才可以送入全连接层\r\n",
    "        x = paddle.reshape(x, [x.shape[0], -1])\r\n",
    "        x = item(x)\r\n",
    "    if len(item.parameters())==2:\r\n",
    "        # 查看卷积和全连接层的数据和参数的形状，\r\n",
    "        # 其中item.parameters()[0]是权重参数w，item.parameters()[1]是偏置参数b\r\n",
    "        print(item.full_name(), x.shape, item.parameters()[0].shape, \r\n",
    "                item.parameters()[1].shape)\r\n",
    "    else:\r\n",
    "        # 汇聚层没有参数\r\n",
    "        print(item.full_name(), x.shape)"
   ]
  },
  {
   "cell_type": "code",
   "execution_count": 26,
   "metadata": {
    "execution": {
     "iopub.execute_input": "2024-06-15T06:12:58.382512Z",
     "iopub.status.busy": "2024-06-15T06:12:58.381774Z",
     "iopub.status.idle": "2024-06-15T06:12:58.392822Z",
     "shell.execute_reply": "2024-06-15T06:12:58.391947Z",
     "shell.execute_reply.started": "2024-06-15T06:12:58.382476Z"
    },
    "scrolled": true
   },
   "outputs": [],
   "source": [
    "import paddle\r\n",
    "from paddle.metric import Metric\r\n",
    "\r\n",
    "#新增准确率计算函数\r\n",
    "def accuracy(preds, labels):\r\n",
    "    \"\"\"\r\n",
    "    输入：\r\n",
    "        - preds：预测值，二分类时，shape=[N, 1]，N为样本数量，多分类时，shape=[N, C]，C为类别数量\r\n",
    "        - labels：真实标签，shape=[N, 1]\r\n",
    "    输出：\r\n",
    "        - 准确率：shape=[1]\r\n",
    "    \"\"\"\r\n",
    "    #判断是二分类任务还是多分类任务，preds.shape[1]=1时为二分类任务，preds.shape[1]>1时为多分类任务\r\n",
    "    if preds.shape[1] == 1:\r\n",
    "        #二分类时，判断每个概率值是否大于0.5，当大于0.5时，类别为1，否则类别为0\r\n",
    "        #使用'paddle.cast'将preds的数据类型转换为float32类型\r\n",
    "        preds = paddle.cast((preds>=0.5),dtype='int32')\r\n",
    "    else:\r\n",
    "        #多分类时，使用'paddle.argmax'计算最大元素索引作为类别\r\n",
    "        preds = paddle.argmax(preds,axis=1, dtype='int32')\r\n",
    "    return paddle.mean(paddle.cast(paddle.equal(preds, labels),dtype='int32'))\r\n",
    "\r\n",
    "class Accuracy(Metric):\r\n",
    "    def __init__(self, is_logist=True):\r\n",
    "        \"\"\"\r\n",
    "        输入：\r\n",
    "           - is_logist: outputs是logist还是激活后的值\r\n",
    "        \"\"\"\r\n",
    "\r\n",
    "        # 用于统计正确的样本个数\r\n",
    "        self.num_correct = 0\r\n",
    "        # 用于统计样本的总数\r\n",
    "        self.num_count = 0\r\n",
    "\r\n",
    "        self.is_logist = is_logist\r\n",
    "\r\n",
    "    def update(self, outputs, labels):\r\n",
    "        \"\"\"\r\n",
    "        输入：\r\n",
    "           - outputs: 预测值, shape=[N,class_num]\r\n",
    "           - labels: 标签值, shape=[N,1]\r\n",
    "        \"\"\"\r\n",
    "\r\n",
    "        # 判断是二分类任务还是多分类任务，shape[1]=1时为二分类任务，shape[1]>1时为多分类任务\r\n",
    "        if outputs.shape[1] == 1: # 二分类\r\n",
    "            outputs = paddle.squeeze(outputs, axis=-1)\r\n",
    "            if self.is_logist:\r\n",
    "                # logist判断是否大于0\r\n",
    "                preds = paddle.cast((outputs>=0), dtype='int32')\r\n",
    "            else:\r\n",
    "                # 如果不是logist，判断每个概率值是否大于0.5，当大于0.5时，类别为1，否则类别为0\r\n",
    "                preds = paddle.cast((outputs>=0.5), dtype='int32')\r\n",
    "        else:\r\n",
    "            # 多分类时，使用'paddle.argmax'计算最大元素索引作为类别\r\n",
    "            preds = paddle.argmax(outputs, axis=1, dtype='int32')\r\n",
    "\r\n",
    "        # 获取本批数据中预测正确的样本个数\r\n",
    "        labels = paddle.squeeze(labels, axis=-1)\r\n",
    "        batch_correct = paddle.sum(paddle.cast(preds==labels, dtype=\"int32\")).numpy().item()\r\n",
    "        batch_count = len(labels)\r\n",
    "\r\n",
    "        # 更新num_correct 和 num_count\r\n",
    "        self.num_correct += batch_correct\r\n",
    "        self.num_count += batch_count\r\n",
    "\r\n",
    "    def accumulate(self):\r\n",
    "        # 使用累计的数据，计算总的指标\r\n",
    "        if self.num_count == 0:\r\n",
    "            return 0\r\n",
    "        return self.num_correct / self.num_count\r\n",
    "\r\n",
    "    def reset(self):\r\n",
    "        # 重置正确的数目和总数\r\n",
    "        self.num_correct = 0\r\n",
    "        self.num_count = 0\r\n",
    "\r\n",
    "    def name(self):\r\n",
    "        return \"Accuracy\""
   ]
  },
  {
   "cell_type": "code",
   "execution_count": 27,
   "metadata": {
    "execution": {
     "iopub.execute_input": "2024-06-15T06:13:04.832388Z",
     "iopub.status.busy": "2024-06-15T06:13:04.831578Z",
     "iopub.status.idle": "2024-06-15T06:13:04.849592Z",
     "shell.execute_reply": "2024-06-15T06:13:04.848622Z",
     "shell.execute_reply.started": "2024-06-15T06:13:04.832340Z"
    },
    "scrolled": true
   },
   "outputs": [],
   "source": [
    "class RunnerV3(object):\r\n",
    "    def __init__(self, model, optimizer, loss_fn, metric, **kwargs):\r\n",
    "        self.model = model\r\n",
    "        self.optimizer = optimizer\r\n",
    "        self.loss_fn = loss_fn\r\n",
    "        self.metric = metric \r\n",
    "        self.dev_scores = []\r\n",
    "        self.train_epoch_losses = [] \r\n",
    "        self.train_step_losses = []  \r\n",
    "        self.dev_losses = []\r\n",
    "        self.best_score = 0\r\n",
    "\r\n",
    "    def train(self, train_loader, dev_loader=None, **kwargs):\r\n",
    "        self.model.train()\r\n",
    "        num_epochs = kwargs.get(\"num_epochs\", 0)\r\n",
    "        log_steps = kwargs.get(\"log_steps\", 100)\r\n",
    "        eval_steps = kwargs.get(\"eval_steps\", None)\r\n",
    "        save_path = kwargs.get(\"save_path\", \"best_model.pdparams\")\r\n",
    "        custom_print_log = kwargs.get(\"custom_print_log\", None) \r\n",
    "        num_training_steps = num_epochs*len(train_loader)\r\n",
    "        if eval_steps:\r\n",
    "            assert self.metric and dev_loader\r\n",
    "        do_eval = eval_steps and self.metric and dev_loader\r\n",
    "        global_step = 0\r\n",
    "        for epoch in range(num_epochs):\r\n",
    "            total_loss = 0\r\n",
    "            for step, data in enumerate(train_loader):\r\n",
    "                X, y = data\r\n",
    "                logits = self.model(X)\r\n",
    "                loss = self.loss_fn(logits, y) \r\n",
    "                total_loss += loss \r\n",
    "                self.train_step_losses.append((global_step,loss.item()))\r\n",
    "                if global_step%log_steps==0:\r\n",
    "                    print(f\"[Train] epoch: {epoch}/{num_epochs}, step: {global_step}/{num_training_steps}, loss: {loss.item():.5f}\")\r\n",
    "                loss.backward() \r\n",
    "                if custom_print_log:\r\n",
    "                   custom_print_log(self)\r\n",
    "                self.optimizer.step()\r\n",
    "                self.optimizer.clear_grad()\r\n",
    "                if do_eval and (global_step%eval_steps == 0):\r\n",
    "                    dev_score, dev_loss = self.evaluate(dev_loader, global_step=global_step)\r\n",
    "                    print(f\"[Evaluate]  dev_score: {dev_score:.5f}, dev_loss: {dev_loss:.5f}\") \r\n",
    "                    self.model.train()\r\n",
    "                    if dev_score > self.best_score:\r\n",
    "                        self.save_model(save_path)\r\n",
    "                        print(f\"best accuracy performence has been updated: {self.best_score:.5f} --> {dev_score:.5f}\")\r\n",
    "                        self.best_score = dev_score\r\n",
    "                global_step += 1\r\n",
    "            trn_loss = (total_loss/len(train_loader)).item()\r\n",
    "            self.train_epoch_losses.append(trn_loss)\r\n",
    "        print(\"[Train] Training done!\")\r\n",
    "\r\n",
    "    #模型评估阶段，使用'paddle.no_grad()'控制不计算和存储梯度\r\n",
    "    @paddle.no_grad()\r\n",
    "    def evaluate(self, dev_loader, **kwargs):\r\n",
    "        assert self.metric is not None\r\n",
    "        self.model.eval()\r\n",
    "        global_step = kwargs.get(\"global_step\", -1) \r\n",
    "        total_loss = 0\r\n",
    "        self.metric.reset() \r\n",
    "        for batch_id, data in enumerate(dev_loader):\r\n",
    "            X, y = data\r\n",
    "            logits = self.model(X)\r\n",
    "            loss = self.loss_fn(logits, y).item()\r\n",
    "            total_loss += loss \r\n",
    "            self.metric.update(logits, y)\r\n",
    "        dev_loss = (total_loss/len(dev_loader))\r\n",
    "        self.dev_losses.append((global_step, dev_loss))\r\n",
    "        dev_score = self.metric.accumulate() \r\n",
    "        self.dev_scores.append(dev_score)\r\n",
    "        return dev_score, dev_loss\r\n",
    "    \r\n",
    "    #模型评估阶段，使用'paddle.no_grad()'控制不计算和存储梯度\r\n",
    "    @paddle.no_grad()\r\n",
    "    def predict(self, x, **kwargs):\r\n",
    "        self.model.eval()\r\n",
    "        logits = self.model(x)\r\n",
    "        return logits\r\n",
    "\r\n",
    "    def save_model(self, save_path):\r\n",
    "        paddle.save(self.model.state_dict(), save_path)\r\n",
    "\r\n",
    "    def load_model(self, model_path):\r\n",
    "        model_state_dict = paddle.load(model_path)\r\n",
    "        self.model.set_state_dict(model_state_dict)"
   ]
  },
  {
   "cell_type": "code",
   "execution_count": 28,
   "metadata": {
    "execution": {
     "iopub.execute_input": "2024-06-15T06:13:08.836638Z",
     "iopub.status.busy": "2024-06-15T06:13:08.835178Z",
     "iopub.status.idle": "2024-06-15T06:32:01.420824Z",
     "shell.execute_reply": "2024-06-15T06:32:01.419805Z",
     "shell.execute_reply.started": "2024-06-15T06:13:08.836578Z"
    },
    "scrolled": true,
    "tags": []
   },
   "outputs": [
    {
     "name": "stdout",
     "output_type": "stream",
     "text": [
      "[Train] epoch: 0/5, step: 0/80, loss: 2.30778\r\n",
      "[Evaluate]  dev_score: 0.04500, dev_loss: 2.29642\r\n",
      "best accuracy performence has been updated: 0.00000 --> 0.04500\r\n",
      "[Train] epoch: 0/5, step: 15/80, loss: 2.16980\r\n",
      "[Evaluate]  dev_score: 0.26500, dev_loss: 2.14036\r\n",
      "best accuracy performence has been updated: 0.04500 --> 0.26500\r\n",
      "[Train] epoch: 1/5, step: 30/80, loss: 1.13083\r\n",
      "[Evaluate]  dev_score: 0.50500, dev_loss: 1.52850\r\n",
      "best accuracy performence has been updated: 0.26500 --> 0.50500\r\n",
      "[Train] epoch: 2/5, step: 45/80, loss: 0.89608\r\n",
      "[Evaluate]  dev_score: 0.65000, dev_loss: 0.86558\r\n",
      "best accuracy performence has been updated: 0.50500 --> 0.65000\r\n",
      "[Train] epoch: 3/5, step: 60/80, loss: 0.61267\r\n",
      "[Evaluate]  dev_score: 0.81000, dev_loss: 0.57565\r\n",
      "best accuracy performence has been updated: 0.65000 --> 0.81000\r\n",
      "[Train] epoch: 4/5, step: 75/80, loss: 0.48427\r\n",
      "[Evaluate]  dev_score: 0.83500, dev_loss: 0.43656\r\n",
      "best accuracy performence has been updated: 0.81000 --> 0.83500\r\n",
      "[Train] Training done!\r\n"
     ]
    }
   ],
   "source": [
    "import paddle.optimizer as opt\r\n",
    "\r\n",
    "paddle.seed(100)\r\n",
    "\r\n",
    "batch_size = 64\r\n",
    "train_loader = io.DataLoader(train_dataset, batch_size=batch_size, shuffle=True)\r\n",
    "dev_loader = io.DataLoader(dev_dataset, batch_size=batch_size)\r\n",
    "test_loader = io.DataLoader(test_dataset, batch_size=batch_size)\r\n",
    "\r\n",
    "model = Model_LeNet(in_channels=1, num_classes=10)\r\n",
    "optimizer = opt.SGD(learning_rate=0.1, parameters=model.parameters())\r\n",
    "loss_fn = F.cross_entropy\r\n",
    "metric = Accuracy(is_logist=True)\r\n",
    "runner = RunnerV3(model, optimizer, loss_fn, metric)\r\n",
    "runner.train(train_loader, dev_loader, num_epochs=5, log_steps=15, eval_steps=15, save_path='./checkpoint/model_best.pdparams')"
   ]
  },
  {
   "cell_type": "code",
   "execution_count": 29,
   "metadata": {
    "execution": {
     "iopub.execute_input": "2024-06-15T06:32:56.315189Z",
     "iopub.status.busy": "2024-06-15T06:32:56.314587Z",
     "iopub.status.idle": "2024-06-15T06:32:56.696542Z",
     "shell.execute_reply": "2024-06-15T06:32:56.695396Z",
     "shell.execute_reply.started": "2024-06-15T06:32:56.315152Z"
    },
    "scrolled": true
   },
   "outputs": [
    {
     "data": {
      "image/png": "[encoded data removed]",
      "text/plain": [
       "<Figure size 1000x500 with 2 Axes>"
      ]
     },
     "metadata": {},
     "output_type": "display_data"
    }
   ],
   "source": [
    "def plot(runner):\r\n",
    "    plt.figure(figsize=(10,5))\r\n",
    "    plt.subplot(1,2,1)\r\n",
    "    train_items = runner.train_step_losses[::30]\r\n",
    "    train_steps=[x[0] for x in train_items]\r\n",
    "    train_losses = [x[1] for x in train_items]\r\n",
    "    plt.plot(train_steps, train_losses, color='#8E004D', label=\"Train loss\")\r\n",
    "    if runner.dev_losses[0][0]!=-1:\r\n",
    "        dev_steps=[x[0] for x in runner.dev_losses]\r\n",
    "        dev_losses = [x[1] for x in runner.dev_losses]\r\n",
    "        plt.plot(dev_steps, dev_losses, color='#E20079', linestyle='--', label=\"Dev loss\")\r\n",
    "    #绘制坐标轴和图例\r\n",
    "    plt.ylabel(\"loss\", fontsize='x-large')\r\n",
    "    plt.xlabel(\"step\", fontsize='x-large')\r\n",
    "    plt.legend(loc='upper right', fontsize='x-large')\r\n",
    "    plt.subplot(1,2,2)\r\n",
    "    #绘制评价准确率变化曲线\r\n",
    "    if runner.dev_losses[0][0]!=-1:\r\n",
    "        plt.plot(dev_steps, runner.dev_scores, \r\n",
    "            color='#E20079', linestyle=\"--\", label=\"Dev accuracy\")\r\n",
    "    else:\r\n",
    "        plt.plot(list(range(len(runner.dev_scores))), runner.dev_scores, \r\n",
    "            color='#E20079', linestyle=\"--\", label=\"Dev accuracy\")\r\n",
    "    #绘制坐标轴和图例\r\n",
    "    plt.ylabel(\"score\", fontsize='x-large')\r\n",
    "    plt.xlabel(\"step\", fontsize='x-large')\r\n",
    "    plt.legend(loc='lower right', fontsize='x-large')\r\n",
    "    plt.show()\r\n",
    "\r\n",
    "plot(runner)"
   ]
  },
  {
   "cell_type": "code",
   "execution_count": null,
   "metadata": {
    "scrolled": true
   },
   "outputs": [],
   "source": [
    "runner.load_model(\"./checkpoint/model_best.pdparams\")\r\n",
    "X, label = next(test_loader())\r\n",
    "logits = runner.predict(X)\r\n",
    "pred = F.softmax(logits)\r\n",
    "pred_class = paddle.argmax(pred[1]).numpy()\r\n",
    "label = label[1][0].numpy()\r\n",
    "print(label[0])\r\n",
    "print(pred_class[0])"
   ]
  },
  {
   "cell_type": "code",
   "execution_count": null,
   "metadata": {
    "scrolled": true
   },
   "outputs": [],
   "source": []
  }
 ],
 "metadata": {
  "kernelspec": {
   "display_name": "Python 3",
   "language": "python",
   "name": "py35-paddle1.2.0"
  },
  "language_info": {
   "codemirror_mode": {
    "name": "ipython",
    "version": 3
   },
   "file_extension": ".py",
   "mimetype": "text/x-python",
   "name": "python",
   "nbconvert_exporter": "python",
   "pygments_lexer": "ipython3",
   "version": "3.10.10"
  }
 },
 "nbformat": 4,
 "nbformat_minor": 4
}
