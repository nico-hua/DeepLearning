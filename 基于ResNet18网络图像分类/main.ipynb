{
 "cells": [
  {
   "cell_type": "code",
   "execution_count": 1,
   "metadata": {
    "execution": {
     "iopub.execute_input": "2024-06-15T18:05:21.620035Z",
     "iopub.status.busy": "2024-06-15T18:05:21.619748Z",
     "iopub.status.idle": "2024-06-15T18:05:24.343127Z",
     "shell.execute_reply": "2024-06-15T18:05:24.342271Z",
     "shell.execute_reply.started": "2024-06-15T18:05:21.620004Z"
    },
    "scrolled": true
   },
   "outputs": [
    {
     "name": "stdout",
     "output_type": "stream",
     "text": [
      "cifar-10-batches-py/\r\n",
      "cifar-10-batches-py/data_batch_4\r\n",
      "cifar-10-batches-py/readme.html\r\n",
      "cifar-10-batches-py/test_batch\r\n",
      "cifar-10-batches-py/data_batch_3\r\n",
      "cifar-10-batches-py/batches.meta\r\n",
      "cifar-10-batches-py/data_batch_2\r\n",
      "cifar-10-batches-py/data_batch_5\r\n",
      "cifar-10-batches-py/data_batch_1\r\n"
     ]
    }
   ],
   "source": [
    "!tar -xvf ./data/cifar/cifar-10-python.tar.gz -C ./data/cifar/"
   ]
  },
  {
   "cell_type": "code",
   "execution_count": 2,
   "metadata": {
    "execution": {
     "iopub.execute_input": "2024-06-15T18:05:24.345624Z",
     "iopub.status.busy": "2024-06-15T18:05:24.345233Z",
     "iopub.status.idle": "2024-06-15T18:05:26.136364Z",
     "shell.execute_reply": "2024-06-15T18:05:26.135222Z",
     "shell.execute_reply.started": "2024-06-15T18:05:24.345594Z"
    },
    "scrolled": true
   },
   "outputs": [],
   "source": [
    "import os\r\n",
    "import pickle \r\n",
    "import paddle\r\n",
    "import numpy as np\r\n",
    "\r\n",
    "def load_cifar10_batch(folder_path, batch_id=1, mode='train'):\r\n",
    "    if mode=='test':\r\n",
    "        file_path=os.path.join(folder_path, 'test_batch')\r\n",
    "    else:\r\n",
    "        file_path=os.path.join(folder_path, 'data_batch_{}'.format(batch_id))\r\n",
    "    with open(file_path, 'rb') as batch_file:\r\n",
    "        batch = pickle.load(batch_file, encoding='latin1')\r\n",
    "    imgs = batch['data'].reshape((len(batch['data']), 3, 32, 32)) / 255.\r\n",
    "    labels = batch['labels']\r\n",
    "    return np.array(imgs, dtype='float32'), np.array(labels)"
   ]
  },
  {
   "cell_type": "code",
   "execution_count": 3,
   "metadata": {
    "execution": {
     "iopub.execute_input": "2024-06-15T18:05:26.138100Z",
     "iopub.status.busy": "2024-06-15T18:05:26.137586Z",
     "iopub.status.idle": "2024-06-15T18:05:26.470063Z",
     "shell.execute_reply": "2024-06-15T18:05:26.468917Z",
     "shell.execute_reply.started": "2024-06-15T18:05:26.138071Z"
    },
    "scrolled": true
   },
   "outputs": [],
   "source": [
    "imgs_batch, labels_batch = load_cifar10_batch(folder_path='./data/cifar/cifar-10-batches-py', batch_id=1, mode='train')"
   ]
  },
  {
   "cell_type": "code",
   "execution_count": 4,
   "metadata": {
    "execution": {
     "iopub.execute_input": "2024-06-15T18:05:26.472075Z",
     "iopub.status.busy": "2024-06-15T18:05:26.471418Z",
     "iopub.status.idle": "2024-06-15T18:05:26.477117Z",
     "shell.execute_reply": "2024-06-15T18:05:26.476159Z",
     "shell.execute_reply.started": "2024-06-15T18:05:26.472047Z"
    },
    "scrolled": true
   },
   "outputs": [
    {
     "name": "stdout",
     "output_type": "stream",
     "text": [
      "batch of imgs shape:  (10000, 3, 32, 32) batch of labels shape:  (10000,)\r\n"
     ]
    }
   ],
   "source": [
    "print (\"batch of imgs shape: \",imgs_batch.shape, \"batch of labels shape: \", labels_batch.shape)"
   ]
  },
  {
   "cell_type": "code",
   "execution_count": 5,
   "metadata": {
    "execution": {
     "iopub.execute_input": "2024-06-15T18:05:26.478385Z",
     "iopub.status.busy": "2024-06-15T18:05:26.478149Z",
     "iopub.status.idle": "2024-06-15T18:05:27.114515Z",
     "shell.execute_reply": "2024-06-15T18:05:27.113510Z",
     "shell.execute_reply.started": "2024-06-15T18:05:26.478364Z"
    },
    "scrolled": true
   },
   "outputs": [
    {
     "name": "stdout",
     "output_type": "stream",
     "text": [
      "The label in the picture is 9\r\n"
     ]
    },
    {
     "data": {
      "text/plain": [
       "<matplotlib.image.AxesImage at 0x7f4bed4b5240>"
      ]
     },
     "execution_count": 5,
     "metadata": {},
     "output_type": "execute_result"
    },
    {
     "data": {
      "image/png": "[encoded data removed]",
      "text/plain": [
       "<Figure size 200x200 with 1 Axes>"
      ]
     },
     "metadata": {},
     "output_type": "display_data"
    }
   ],
   "source": [
    "%matplotlib inline\r\n",
    "import matplotlib.pyplot as plt\r\n",
    "\r\n",
    "image, label = imgs_batch[1], labels_batch[1]\r\n",
    "print(\"The label in the picture is {}\".format(label))\r\n",
    "plt.figure(figsize=(2, 2))\r\n",
    "plt.imshow(image.transpose(1,2,0))"
   ]
  },
  {
   "cell_type": "code",
   "execution_count": 6,
   "metadata": {
    "execution": {
     "iopub.execute_input": "2024-06-15T18:05:27.116400Z",
     "iopub.status.busy": "2024-06-15T18:05:27.115783Z",
     "iopub.status.idle": "2024-06-15T18:05:29.849093Z",
     "shell.execute_reply": "2024-06-15T18:05:29.848216Z",
     "shell.execute_reply.started": "2024-06-15T18:05:27.116371Z"
    },
    "scrolled": true
   },
   "outputs": [],
   "source": [
    "import paddle\r\n",
    "import paddle.io as io\r\n",
    "from paddle.vision.transforms import Normalize\r\n",
    "\r\n",
    "class CIFAR10Dataset(io.Dataset):\r\n",
    "    def __init__(self, folder_path='./data/cifar/cifar-10-batches-py', mode='train'):\r\n",
    "        if mode == 'train':\r\n",
    "            #加载batch1-batch4作为训练集\r\n",
    "            self.imgs, self.labels = load_cifar10_batch(folder_path=folder_path, batch_id=1, mode='train')\r\n",
    "            for i in range(2, 5):\r\n",
    "                imgs_batch, labels_batch = load_cifar10_batch(folder_path=folder_path, batch_id=i, mode='train')\r\n",
    "                self.imgs, self.labels = np.concatenate([self.imgs, imgs_batch]), np.concatenate([self.labels, labels_batch])\r\n",
    "        elif mode == 'dev':\r\n",
    "            #加载batch5作为验证集\r\n",
    "            self.imgs, self.labels = load_cifar10_batch(folder_path=folder_path, batch_id=5, mode='dev')\r\n",
    "        elif mode == 'test':\r\n",
    "            #加载测试集\r\n",
    "            self.imgs, self.labels = load_cifar10_batch(folder_path=folder_path, mode='test')\r\n",
    "        self.transform = Normalize(mean=[0.4914, 0.4822, 0.4465], std=[0.2023, 0.1994, 0.2010], data_format='CHW')\r\n",
    "\r\n",
    "    def __getitem__(self, idx):\r\n",
    "        img, label = self.imgs[idx], self.labels[idx]\r\n",
    "        img = self.transform(img)\r\n",
    "        return img, label\r\n",
    "\r\n",
    "    def __len__(self):\r\n",
    "        return len(self.imgs)\r\n",
    "\r\n",
    "paddle.seed(100)\r\n",
    "train_dataset = CIFAR10Dataset(folder_path='./data/cifar/cifar-10-batches-py', mode='train')\r\n",
    "dev_dataset = CIFAR10Dataset(folder_path='./data/cifar/cifar-10-batches-py', mode='dev')\r\n",
    "test_dataset = CIFAR10Dataset(folder_path='./data/cifar/cifar-10-batches-py', mode='test')"
   ]
  },
  {
   "cell_type": "code",
   "execution_count": 7,
   "metadata": {
    "execution": {
     "iopub.execute_input": "2024-06-15T18:05:29.850742Z",
     "iopub.status.busy": "2024-06-15T18:05:29.850205Z",
     "iopub.status.idle": "2024-06-15T18:05:34.256181Z",
     "shell.execute_reply": "2024-06-15T18:05:34.255322Z",
     "shell.execute_reply.started": "2024-06-15T18:05:29.850715Z"
    },
    "scrolled": true
   },
   "outputs": [
    {
     "name": "stderr",
     "output_type": "stream",
     "text": [
      "W0616 02:05:29.855024 59595 gpu_resources.cc:119] Please NOTE: device: 0, GPU Compute Capability: 7.0, Driver API Version: 12.0, Runtime API Version: 11.8\r\n",
      "W0616 02:05:29.856367 59595 gpu_resources.cc:164] device: 0, cuDNN Version: 8.9.\r\n"
     ]
    }
   ],
   "source": [
    "from paddle.vision.models import resnet18\r\n",
    "resnet18_model = resnet18()"
   ]
  },
  {
   "cell_type": "code",
   "execution_count": 8,
   "metadata": {
    "execution": {
     "iopub.execute_input": "2024-06-15T18:05:34.257891Z",
     "iopub.status.busy": "2024-06-15T18:05:34.257302Z",
     "iopub.status.idle": "2024-06-15T18:20:39.856284Z",
     "shell.execute_reply": "2024-06-15T18:20:39.855268Z",
     "shell.execute_reply.started": "2024-06-15T18:05:34.257862Z"
    },
    "scrolled": true,
    "tags": []
   },
   "outputs": [
    {
     "name": "stderr",
     "output_type": "stream",
     "text": [
      "/opt/conda/envs/python35-paddle120-env/lib/python3.10/site-packages/paddle/nn/layer/norm.py:824: UserWarning: When training, we now always track global mean and variance.\r\n",
      "  warnings.warn(\r\n"
     ]
    },
    {
     "name": "stdout",
     "output_type": "stream",
     "text": [
      "[Train] epoch: 0/30, step: 0/18750, loss: 7.92117\r\n",
      "[Evaluate]  dev_score: 0.00000, dev_loss: 16.08030\r\n",
      "[Train] epoch: 4/30, step: 3000/18750, loss: 1.19056\r\n",
      "[Evaluate]  dev_score: 0.65870, dev_loss: 0.99827\r\n",
      "best accuracy performence has been updated: 0.00000 --> 0.65870\r\n",
      "[Train] epoch: 9/30, step: 6000/18750, loss: 1.03660\r\n",
      "[Evaluate]  dev_score: 0.71970, dev_loss: 0.83236\r\n",
      "best accuracy performence has been updated: 0.65870 --> 0.71970\r\n",
      "[Train] epoch: 14/30, step: 9000/18750, loss: 0.58432\r\n",
      "[Evaluate]  dev_score: 0.71750, dev_loss: 0.84510\r\n",
      "[Train] epoch: 19/30, step: 12000/18750, loss: 0.55952\r\n",
      "[Evaluate]  dev_score: 0.73200, dev_loss: 0.82651\r\n",
      "best accuracy performence has been updated: 0.71970 --> 0.73200\r\n",
      "[Train] epoch: 24/30, step: 15000/18750, loss: 0.64313\r\n",
      "[Evaluate]  dev_score: 0.73860, dev_loss: 0.77516\r\n",
      "best accuracy performence has been updated: 0.73200 --> 0.73860\r\n",
      "[Train] epoch: 28/30, step: 18000/18750, loss: 0.64262\r\n",
      "[Evaluate]  dev_score: 0.73690, dev_loss: 0.79965\r\n",
      "[Train] Training done!\r\n"
     ]
    }
   ],
   "source": [
    "import paddle.nn.functional as F\r\n",
    "import paddle.optimizer as opt\r\n",
    "from nndl import RunnerV3, Accuracy\r\n",
    "\r\n",
    "#指定运行设备\r\n",
    "use_gpu = True if paddle.get_device().startswith(\"gpu\") else False\r\n",
    "if use_gpu:\r\n",
    "    paddle.set_device('gpu:0')\r\n",
    "#学习率大小\r\n",
    "lr = 0.001  \r\n",
    "#批次大小\r\n",
    "batch_size = 64 \r\n",
    "#加载数据\r\n",
    "train_loader = io.DataLoader(train_dataset, batch_size=batch_size, shuffle=True)\r\n",
    "dev_loader = io.DataLoader(dev_dataset, batch_size=batch_size)\r\n",
    "test_loader = io.DataLoader(test_dataset, batch_size=batch_size) \r\n",
    "#定义网络\r\n",
    "model = resnet18_model\r\n",
    "#定义优化器，这里使用Adam优化器以及l2正则化策略，相关内容在7.3.3.2和7.6.2中会进行详细介绍\r\n",
    "optimizer = opt.Adam(learning_rate=lr, parameters=model.parameters(), weight_decay=0.005)\r\n",
    "#定义损失函数\r\n",
    "loss_fn = F.cross_entropy\r\n",
    "#定义评价指标\r\n",
    "metric = Accuracy(is_logist=True)\r\n",
    "#实例化RunnerV3\r\n",
    "runner = RunnerV3(model, optimizer, loss_fn, metric)\r\n",
    "#启动训练\r\n",
    "log_steps = 3000\r\n",
    "eval_steps = 3000\r\n",
    "runner.train(train_loader, dev_loader, num_epochs=30, log_steps=log_steps, \r\n",
    "                eval_steps=eval_steps, save_path=\"best_model.pdparams\")"
   ]
  },
  {
   "cell_type": "code",
   "execution_count": 9,
   "metadata": {
    "execution": {
     "iopub.execute_input": "2024-06-15T18:21:01.992783Z",
     "iopub.status.busy": "2024-06-15T18:21:01.992189Z",
     "iopub.status.idle": "2024-06-15T18:21:02.997772Z",
     "shell.execute_reply": "2024-06-15T18:21:02.996818Z",
     "shell.execute_reply.started": "2024-06-15T18:21:01.992723Z"
    },
    "scrolled": true
   },
   "outputs": [
    {
     "data": {
      "image/png": "[encoded data removed]",
      "text/plain": [
       "<Figure size 1000x500 with 2 Axes>"
      ]
     },
     "metadata": {},
     "output_type": "display_data"
    }
   ],
   "source": [
    "from nndl import plot\r\n",
    "\r\n",
    "plot(runner, fig_name='cnn-loss4.pdf')"
   ]
  },
  {
   "cell_type": "code",
   "execution_count": 26,
   "metadata": {
    "execution": {
     "iopub.execute_input": "2024-06-15T18:39:06.741690Z",
     "iopub.status.busy": "2024-06-15T18:39:06.741065Z",
     "iopub.status.idle": "2024-06-15T18:39:09.621743Z",
     "shell.execute_reply": "2024-06-15T18:39:09.620793Z",
     "shell.execute_reply.started": "2024-06-15T18:39:06.741652Z"
    },
    "scrolled": true
   },
   "outputs": [
    {
     "name": "stdout",
     "output_type": "stream",
     "text": [
      "[Test] accuracy/loss: 0.7346/0.8096\r\n"
     ]
    }
   ],
   "source": [
    "# 加载最优模型\r\n",
    "runner.load_model('best_model.pdparams')\r\n",
    "# 模型评价\r\n",
    "score, loss = runner.evaluate(test_loader)\r\n",
    "print(\"[Test] accuracy/loss: {:.4f}/{:.4f}\".format(score, loss))"
   ]
  },
  {
   "cell_type": "code",
   "execution_count": 28,
   "metadata": {
    "execution": {
     "iopub.execute_input": "2024-06-15T18:39:27.427268Z",
     "iopub.status.busy": "2024-06-15T18:39:27.426676Z",
     "iopub.status.idle": "2024-06-15T18:39:27.951386Z",
     "shell.execute_reply": "2024-06-15T18:39:27.950538Z",
     "shell.execute_reply.started": "2024-06-15T18:39:27.427229Z"
    },
    "scrolled": true
   },
   "outputs": [
    {
     "name": "stdout",
     "output_type": "stream",
     "text": [
      "The actual category is automobile and the predicted category is automobile\r\n"
     ]
    },
    {
     "data": {
      "text/plain": [
       "<matplotlib.image.AxesImage at 0x7f4bc9415cc0>"
      ]
     },
     "execution_count": 28,
     "metadata": {},
     "output_type": "execute_result"
    },
    {
     "data": {
      "image/png": "[encoded data removed]",
      "text/plain": [
       "<Figure size 200x200 with 1 Axes>"
      ]
     },
     "metadata": {},
     "output_type": "display_data"
    }
   ],
   "source": [
    "id2label = {0:'airplane', 1:'automobile', 2:'bird', 3:'cat', 4:'deer', 5:'dog', 6:'frog', 7:'horse', 8:'ship', 9:'truck'}\r\n",
    "X, label_ids = next(test_loader())\r\n",
    "logits = runner.predict(X)\r\n",
    "pred_class_id = paddle.argmax(logits[9]).numpy()\r\n",
    "label_id = label_ids[9].numpy()\r\n",
    "pred_class = id2label[pred_class_id.item()]\r\n",
    "label = id2label[label_id.item()]\r\n",
    "print(\"The actual category is {} and the predicted category is {}\".format(label, pred_class))\r\n",
    "plt.figure(figsize=(2,2))\r\n",
    "imgs, labels = load_cifar10_batch(folder_path='./data/cifar/cifar-10-batches-py', mode='test')\r\n",
    "plt.imshow(imgs[10].transpose(1,2,0))"
   ]
  },
  {
   "cell_type": "code",
   "execution_count": null,
   "metadata": {
    "scrolled": true
   },
   "outputs": [],
   "source": []
  }
 ],
 "metadata": {
  "kernelspec": {
   "display_name": "Python 3",
   "language": "python",
   "name": "py35-paddle1.2.0"
  },
  "language_info": {
   "codemirror_mode": {
    "name": "ipython",
    "version": 3
   },
   "file_extension": ".py",
   "mimetype": "text/x-python",
   "name": "python",
   "nbconvert_exporter": "python",
   "pygments_lexer": "ipython3",
   "version": "3.10.10"
  }
 },
 "nbformat": 4,
 "nbformat_minor": 4
}
